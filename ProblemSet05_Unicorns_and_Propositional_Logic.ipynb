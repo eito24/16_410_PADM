{
 "cells": [
  {
   "cell_type": "markdown",
   "metadata": {},
   "source": [
    "# Problem Set 05: Unicorns and Propositional Logic\n",
    "\n",
    "In this problem set you will practice modeling, reducing, and inferring propositional logic.\n",
    "\n",
    "0. [Credit for Contributors (required)](#contributors)\n",
    "\n",
    "1. [Unicorns (60 points)](#problem1)\n",
    "    1. [Propositonal Sentence (20 points)](#part_1a)\n",
    "    2. [Reduce to CNF (20 points)](#part_1b)\n",
    "    3. [What is the Unicorn? (20 points)](#part_1c)\n",
    "\n",
    "2. [Propositional Logic and Inference (40 points)](#problem2)\n",
    "    1. [Interpretations (20 points)](#part_2a)\n",
    "    2. [Reduction to Clauses (20 points)](#part_2b)\n",
    "    \n",
    "**100 points** total for Problem Set 5\n"
   ]
  },
  {
   "cell_type": "markdown",
   "metadata": {},
   "source": [
    "## <a name=\"contributors\"></a> Credit for Contributors\n",
    "\n",
    "List the various students, lecture notes, or online resouces that helped you complete this problem set:\n",
    "\n",
    "Ex: I worked with Bob on the cat activity planning problem.\n",
    "\n",
    "<div class=\"alert alert-info\">\n",
    "Write your answer in the cell below this one.\n",
    "</div>"
   ]
  },
  {
   "cell_type": "markdown",
   "metadata": {},
   "source": [
    "Lecture Notes from Propositional Logic & Propositional Inference and Search"
   ]
  },
  {
   "cell_type": "markdown",
   "metadata": {},
   "source": [
    "## <a name=\"problem1\"></a> Problem 1: Unicorns (60 points)\n",
    "\n",
    "Consider the following quote, taken from (Barwise and Etchemendy, 1993):\n",
    "```\n",
    "If the unicorn is mythical, then it is immortal, but if it is not mythical, then\n",
    "it is a mortal mammal. If the unicorn is either immortal or a mammal,\n",
    "then it is horned. The unicorn is magical if it is horned.\n",
    "```\n",
    "You will represent this quote in propositional logic using the following propositional symbols:\n",
    "* MY = “Mythical Unicorn”\n",
    "* IU = “Immortal Unicorn”\n",
    "* MM = “Mortal Mammal”\n",
    "* HU = “Horned Unicorn”\n",
    "* MG = “Magical Unicorn”"
   ]
  },
  {
   "cell_type": "markdown",
   "metadata": {},
   "source": [
    "### <a name=\"part_1a\"></a>Part A - Propositonal Sentence (20 points)\n",
    "\n",
    "Restate the above English sentence quote as a sentence in propositional logic.\n",
    "\n",
    "<div class=\"alert alert-info\">\n",
    "Write or upload your answer in the cell below this one.\n",
    "</div>"
   ]
  },
  {
   "cell_type": "markdown",
   "metadata": {
    "deletable": false,
    "nbgrader": {
     "cell_type": "markdown",
     "checksum": "3ba6e7b734391577bfc3d3c6fb40ad23",
     "grade": true,
     "grade_id": "part_1a",
     "locked": false,
     "points": 20,
     "schema_version": 3,
     "solution": true
    }
   },
   "source": [
    "MY implies IU, and not(MY) implies MM, and (IU or MM) implies HU, and HU implies MG\n",
    "\n",
    "# assuming a unicorn can both be an immortal unicorn and a mortal mammal (not explicitly stated otherwise)"
   ]
  },
  {
   "cell_type": "markdown",
   "metadata": {},
   "source": [
    "### <a name=\"part_1b\"></a>Part B - Reduce to CNF (20 points)\n",
    "Reduce your propositional sentence to conjunctive normal form (i.e., a list of\n",
    "clauses).\n",
    "\n",
    "* Walk through your reduction step by step, starting from sentence S and ending\n",
    "with your set of clauses. Your reduction should be similar in style to the reduction\n",
    "given in the appendix of the class notes.\n",
    "* List your resulting clauses, labeling them C1 ... Cn.\n",
    "\n",
    "<div class=\"alert alert-info\">\n",
    "Write or upload your answer in the cell below this one.\n",
    "</div>\n"
   ]
  },
  {
   "cell_type": "markdown",
   "metadata": {
    "deletable": false,
    "nbgrader": {
     "cell_type": "markdown",
     "checksum": "5e2ddb032fb2c2b2d3d99772e7bf3035",
     "grade": true,
     "grade_id": "part_1b",
     "locked": false,
     "points": 20,
     "schema_version": 3,
     "solution": true
    }
   },
   "source": [
    "(MY implies IU) and ((not MY) implies MM) and ((IU or MM) implies HU) and (HU implies MG)\n",
    "(not MY) or IU; MY or MM; not(IU or MM) or HU; (not HU) or MG\n",
    "(not MY) or IU; MY or MM; ((not IU) and (not MM)) or HU; (not HU) or MG;\n",
    "(not MY) or IU; MY or MM; (not IU) or HU; (not MM) or HU; (not HU) or MG;\n",
    "\n",
    "C1 = (not MY) or IU\n",
    "C2 = MY or MM\n",
    "C3 = (not IU) or HU\n",
    "C4 = (not MM) or HU\n",
    "C5 = (not HU) or MG"
   ]
  },
  {
   "cell_type": "markdown",
   "metadata": {
    "tags": []
   },
   "source": [
    "### <a name=\"part_1c\"></a>Part C - What is the Unicorn? (20 points)\n",
    "Given your propositional logic sentence, comment on if each of the following statements logically follow:\n",
    "\n",
    "*the unicorn is mythical*\n",
    "\n",
    "*the unicorn is magical*\n",
    "\n",
    "*the unicorn is horned*\n",
    "\n",
    "\n",
    "Include a proof of your claim for each of the above statements, for example: using the support from unit propagation.\n",
    "\n",
    "\n",
    "<div class=\"alert alert-info\">\n",
    "Write or upload your answer in the cell below this one.\n",
    "</div>\n"
   ]
  },
  {
   "cell_type": "markdown",
   "metadata": {
    "deletable": false,
    "nbgrader": {
     "cell_type": "markdown",
     "checksum": "0e408620bfbe27526f3a149a306c0f32",
     "grade": true,
     "grade_id": "part_1c",
     "locked": false,
     "points": 20,
     "schema_version": 3,
     "solution": true
    }
   },
   "source": [
    "YOUR ANSWER HERE"
   ]
  },
  {
   "cell_type": "markdown",
   "metadata": {},
   "source": [
    "## <a name=\"problem2\"/></a> Problem 2 : Propositional Logic and Inference (40 points)\n",
    "\n"
   ]
  },
  {
   "cell_type": "code",
   "execution_count": null,
   "metadata": {},
   "outputs": [],
   "source": [
    "(not MY) or IU; MY or MM; (not IU) or HU; (not MM) or HU; (not HU) or MG;\n",
    "(not True) or IU; True or MM; (not IU) or True; (not MM) or True; (not True) or True;\n",
    "False or IU; True; True; True; True;\n",
    "\n",
    "if IU = True; all clauses hold"
   ]
  },
  {
   "cell_type": "markdown",
   "metadata": {},
   "source": [
    "### <a name=\"part_2a\"></a>Part A - Interpretations (20 points)\n",
    "\n",
    "Let S be the propositional sentence:\n",
    "\n",
    "\n",
    "&nbsp;&nbsp;&nbsp;&nbsp;&nbsp;&nbsp; **(A implies B) implies (C implies D)**\n",
    "\n",
    "\n",
    "and let I be the interpretation:\n",
    "\n",
    "&nbsp;&nbsp;&nbsp;&nbsp;&nbsp;&nbsp; **A = True, B = False, C= True, D = False**\n",
    "\n",
    "\n",
    "Is I a model for S, that is, does I satisfy S (Yes or No)?\n",
    "\n",
    "\n",
    "Demonstrate the correctness of your answer.\n",
    "\n",
    "<div class=\"alert alert-info\">\n",
    "Write or upload your answer in the cell below this one.\n",
    "</div>"
   ]
  },
  {
   "cell_type": "markdown",
   "metadata": {
    "deletable": false,
    "nbgrader": {
     "cell_type": "markdown",
     "checksum": "2dd9b7b40e15c64ad536c1fcb929eaef",
     "grade": true,
     "grade_id": "part_2a",
     "locked": false,
     "points": 20,
     "schema_version": 3,
     "solution": true
    }
   },
   "source": [
    "((not A) or B) implies ((not C) or D)\n",
    "not(((not A) or B)) or ((not C) or D)\n",
    "not(((not True) or False) or ((not True) or False)\n",
    "not((False or False) or (False or False))\n",
    "not(False or False)\n",
    "True\n",
    "\n",
    "Yes"
   ]
  },
  {
   "cell_type": "markdown",
   "metadata": {},
   "source": [
    "### <a name=\"part_2b\"></a>Part B - Reduction to Clauses (Conjunctive Normal Form) (20 points)\n",
    "\n",
    "Reduce the following three propositional sentences to conjunctive normal form (CNF)\n",
    "(i.e., a set of clauses). \n",
    "\n",
    "Derive each result step by step:\n",
    "\n",
    "\n",
    "1. Convert [not ((not A and B) or (C and D))] to CNF.\n",
    "2. Convert (A iff A) to CNF\n",
    "3. Convert [(A iff B) or C] to CNF\n",
    "\n",
    "<div class=\"alert alert-info\">\n",
    "Write or upload your answer in the cell below this one.\n",
    "</div>"
   ]
  },
  {
   "cell_type": "markdown",
   "metadata": {
    "deletable": false,
    "nbgrader": {
     "cell_type": "markdown",
     "checksum": "745147220a5978869b073ad8a9768ffb",
     "grade": true,
     "grade_id": "part_2b",
     "locked": false,
     "points": 20,
     "schema_version": 3,
     "solution": true
    }
   },
   "source": [
    "YOUR ANSWER HERE"
   ]
  },
  {
   "cell_type": "markdown",
   "metadata": {},
   "source": [
    "1. [not ((not A and B) or (C and D))]\n",
    "not(not A and B) or not(C and D)\n",
    "(A and (not B)) or ((not C) and (not D))\n",
    "((A and not B) or (not C)) and ((A and not B) or (not D))\n",
    "(A or (not C)) and ((not B) or (not C)) and (A or (not D)) and ((not B) or (not D))\n",
    "2. (A iff A)\n",
    "((A implies A) and (A implies A))\n",
    "((not A) or A) and ((not A) or A)\n",
    "3. [(A iff B) or C]\n",
    "((A implies B) and (B implies A)) or C\n",
    "( ((not A) or B) and ((not B) or A) ) or C\n",
    "(((not A) or B) or C) and (((not B) or A) or C)\n",
    "((not A) or B or C) and ((not B) or A or C)"
   ]
  }
 ],
 "metadata": {
  "kernelspec": {
   "display_name": "Python 3 (ipykernel)",
   "language": "python",
   "name": "python3"
  },
  "language_info": {
   "codemirror_mode": {
    "name": "ipython",
    "version": 3
   },
   "file_extension": ".py",
   "mimetype": "text/x-python",
   "name": "python",
   "nbconvert_exporter": "python",
   "pygments_lexer": "ipython3",
   "version": "3.10.6"
  }
 },
 "nbformat": 4,
 "nbformat_minor": 4
}
