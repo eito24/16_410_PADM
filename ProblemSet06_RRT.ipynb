{
 "cells": [
  {
   "cell_type": "markdown",
   "metadata": {},
   "source": [
    "# Problem Set 06: \n",
    "\n",
    "0. [Credit for Contributors (required)](#contributors)\n",
    "\n",
    "1. [RRT Path Planning (100 points)](#problem1)\n",
    "    1. [Complete the RRT code (50 points)](#rrt)\n",
    "    2. [Test your code on simple environment (20 points)](#simple_env_code)\n",
    "    2. [Test your code on given environments (20 points)](#bugtrap_env_code)\n",
    "    3. [Test your code on harder and random environments (10 points)](#hard_env_code)\n",
    "\n",
    "    \n",
    "**100 points** total for Problem Set 6"
   ]
  },
  {
   "cell_type": "markdown",
   "metadata": {},
   "source": [
    "## <a name=\"contributors\"></a> Credit for Contributors\n",
    "\n",
    "List the various students, lecture notes, or online resouces that helped you complete this problem set:\n",
    "\n",
    "Ex: I worked with Bob on the cat activity planning problem.\n",
    "\n",
    "<div class=\"alert alert-info\">\n",
    "Write your answer in the cell below this one.\n",
    "</div>"
   ]
  },
  {
   "cell_type": "markdown",
   "metadata": {},
   "source": [
    "Lec Notes: Motion Planning"
   ]
  },
  {
   "cell_type": "markdown",
   "metadata": {},
   "source": [
    "## <a name=\"problem1\"></a> Problem 1 : RRT Path Planning\n",
    "\n",
    "In this problem you will implement the Rapidly-Exploring Random Tree (RRT) algorithm to help a robot navigate from its starting position to the desired end region in an environment full of obstacles.\n",
    "\n",
    "<img src='rrt_examples.png'/>\n",
    "\n",
    "You will implement the function `rrt` with the following signature:\n",
    "\n",
    "```python\n",
    "def rrt(bounds, environment, start_pose, radius, end_region)\n",
    "```\n",
    "\n",
    "where:\n",
    "\n",
    "- `bounds=(minx, miny, maxx, maxy)` is a tuple that indicates the bounds of the environment (the region the robot can traverse). Example `bounds=(-5, -4, 15, 5)`.\n",
    "- `environment` is an instance of the `Environment` class that describes the placement of the obstacles in the scene (see more examples below).\n",
    "- `start_pose = (x,y)` is a tuple indicating the starting position of the robot. Example: `start_pose=(-4, -2)`.\n",
    "- `radius` is the radius of the robot (used for collision checking). Example `radius=0.1`.\n",
    "- `end_region` is a `shapely` `Polygon` that describes the region that the robot needs to reach. See examples below.\n",
    "\n",
    "Your function should:\n",
    "\n",
    "- return a list of tuples `(x, y)` describing the obstacle free path that takes the robot to the target region. Example of a valid returned path: `[(-4, -2), (-3.71, -1.97), (-3.41, -1.8865), (-3.50, -2.69)]`. Note that your rrt function should produce paths such that the straight line connecting any pair of consecutive points should be obstacle free (considering the obstacles and the size of the robot). In the given example, it should be possible to go from `(-4, -2)` to `(-3.71, -1.97)` in a straight line without colliding with anything.\n",
    "- produce a plot showing the tree and the obstacle free path (such as the ones shown above)\n",
    "- show the number of nodes in the tree, the number of nodes in the solution path and the path length (you could put this in the plot title, as in the examples above)\n",
    "\n",
    "\n",
    "**You are required to submit this notebook with:**\n",
    "\n",
    "1. The code function `rrt` as described above\n",
    "2. The results (plots) of using your `rrt` function in the easy and bugtrap environments provided (see code stubs below).\n",
    "3. The results of using your `rrt` function in a challenging (600 obstacles) environment that is provided.\n",
    "\n",
    "See the provided example notebook [RRT Helpful Examples](ProblemSet06_RRT_examples.ipynb) for examples on how to use the `Environment` class, the `shapely` library, and how to do some simple collision checking.\n",
    "\n",
    "\n",
    "<div class=\"alert alert-info\">\n",
    "**NOTE:** You don't need to write all your code in this notebook if you don't want to. You could create your own `.py` files and then import them into this notebook. We do require that we are able to run the two environments that we provide and the two that you generate in this notebook and that the plots are embedded here.\n",
    "</div>\n",
    "\n",
    "\n",
    "<div class=\"alert alert-warning\">\n",
    "Please ensure that you submit your notebook with the cells already executed. That is, you should save the notebook when your code has been executed and the plots are visible. That way, we will be able to look at your solution initially without running your code first.\n",
    "</div>\n",
    "\n"
   ]
  },
  {
   "cell_type": "code",
   "execution_count": 9,
   "metadata": {},
   "outputs": [
    {
     "name": "stdout",
     "output_type": "stream",
     "text": [
      "\u001b[33mWARNING: Ignoring invalid distribution -hapely (/opt/conda/lib/python3.10/site-packages)\u001b[0m\u001b[33m\n",
      "\u001b[0m\u001b[33mWARNING: Ignoring invalid distribution - (/opt/conda/lib/python3.10/site-packages)\u001b[0m\u001b[33m\n",
      "\u001b[0m\u001b[33mWARNING: Ignoring invalid distribution -hapely (/opt/conda/lib/python3.10/site-packages)\u001b[0m\u001b[33m\n",
      "\u001b[0m\u001b[33mWARNING: Ignoring invalid distribution - (/opt/conda/lib/python3.10/site-packages)\u001b[0m\u001b[33m\n",
      "\u001b[0mCollecting shapely==1.8.3\n",
      "  Using cached Shapely-1.8.3-cp310-cp310-manylinux_2_12_x86_64.manylinux2010_x86_64.whl (2.0 MB)\n",
      "\u001b[33mWARNING: Ignoring invalid distribution -hapely (/opt/conda/lib/python3.10/site-packages)\u001b[0m\u001b[33m\n",
      "\u001b[0m\u001b[33mWARNING: Ignoring invalid distribution - (/opt/conda/lib/python3.10/site-packages)\u001b[0m\u001b[33m\n",
      "\u001b[0mInstalling collected packages: shapely\n",
      "Successfully installed shapely-1.8.3\n",
      "\u001b[33mWARNING: Ignoring invalid distribution -hapely (/opt/conda/lib/python3.10/site-packages)\u001b[0m\u001b[33m\n",
      "\u001b[0m\u001b[33mWARNING: Ignoring invalid distribution - (/opt/conda/lib/python3.10/site-packages)\u001b[0m\u001b[33m\n",
      "\u001b[0m\u001b[33mWARNING: Ignoring invalid distribution -hapely (/opt/conda/lib/python3.10/site-packages)\u001b[0m\u001b[33m\n",
      "\u001b[0m\u001b[33mWARNING: Ignoring invalid distribution - (/opt/conda/lib/python3.10/site-packages)\u001b[0m\u001b[33m\n",
      "\u001b[0m\u001b[33mWARNING: Ignoring invalid distribution -hapely (/opt/conda/lib/python3.10/site-packages)\u001b[0m\u001b[33m\n",
      "\u001b[0m\u001b[33mWARNING: Ignoring invalid distribution - (/opt/conda/lib/python3.10/site-packages)\u001b[0m\u001b[33m\n",
      "\u001b[0m"
     ]
    }
   ],
   "source": [
    "!pip install shapely==1.8.3 --user"
   ]
  },
  {
   "cell_type": "code",
   "execution_count": 1,
   "metadata": {},
   "outputs": [],
   "source": [
    "# Useful imports\n",
    "%load_ext autoreload\n",
    "%autoreload 2\n",
    "%matplotlib inline\n",
    "from __future__ import division\n",
    "import yaml\n",
    "import numpy as np\n",
    "from check_path import check_path\n",
    "from matplotlib import pyplot as plt\n",
    "from shapely.geometry import Point, Polygon, LineString, box\n",
    "from environment import Environment, plot_environment, plot_line, plot_poly\n",
    "\n",
    "import time"
   ]
  },
  {
   "cell_type": "code",
   "execution_count": 2,
   "metadata": {
    "deletable": false,
    "nbgrader": {
     "cell_type": "code",
     "checksum": "0fa93f65f8018d661f53728d8c6f748b",
     "grade": true,
     "grade_id": "rrt_code",
     "locked": false,
     "points": 50,
     "schema_version": 3,
     "solution": true,
     "task": false
    },
    "tags": []
   },
   "outputs": [],
   "source": [
    "def rrt(bounds, environment, start_pose, radius, end_region):\n",
    "#bounds=(minx, miny, maxx, maxy)\n",
    "#environment is an instance of the Environment class that describes the placement of the obstacles in the scene\n",
    "#start_pose = (x,y)\n",
    "#radius is the radius of the robot (used for collision checking)\n",
    "#end_region is a shapely Polygon that describes the region that the robot needs to reach\n",
    "\n",
    "    starttime = time.time()\n",
    "    path = []\n",
    "    num_obstacles = len(environment.obstacles)\n",
    "    path_length = 0\n",
    "    num_path_nodes = 0\n",
    "    N = 1000000000000\n",
    "    d = radius*2 #max length of path step\n",
    "    tree_nodes = []\n",
    "    tree = {start:None} #child:parent\n",
    "    opptree = dict() #parent:[children]\n",
    "    start_point = Point(start_pose)\n",
    "    end_pose = None\n",
    "    for i in range(N):\n",
    "        x_rand = SampleFree(bounds,environment,radius) #gives random (x,y) in bounds\n",
    "        x_nearest = Nearest(x_rand,tree,opptree) #finds closest exisiting tree node\n",
    "        if x_nearest is None:\n",
    "            x_nearest = start_pose\n",
    "        x_new = Steer(x_nearest,x_rand,d)\n",
    "        if x_new in set(tree_nodes):\n",
    "            continue\n",
    "        elif collided(x_nearest,x_new,environment,radius) or out_of_bounds(x_new,bounds):\n",
    "            continue\n",
    "        else:\n",
    "            tree_nodes.append(x_new)\n",
    "            if x_nearest not in opptree:\n",
    "                opptree[x_nearest] = [x_new,]\n",
    "            else:\n",
    "                templist = opptree[x_nearest].copy()\n",
    "                templist.append(x_new)\n",
    "                opptree[x_nearest] = templist\n",
    "            tree[x_new] = x_nearest\n",
    "        if at_end(x_new,end_region):\n",
    "            end_pose = x_new\n",
    "            break\n",
    "\n",
    "    num_tree_nodes = len(tree_nodes)\n",
    "    start_ball = start_point.buffer(radius,resolution=3)\n",
    "    \n",
    "    at_coor = end_pose\n",
    "    \n",
    "    while at_coor[0]!=start_pose[0] and at_coor[1]!=start_pose[1]:\n",
    "        parent = tree[at_coor]\n",
    "        path.append(parent)\n",
    "        line = LineString([at_coor,parent])\n",
    "        path_length += line.length\n",
    "        at_coor = parent\n",
    "    path.reverse()\n",
    "    elapsed = time.time()-starttime\n",
    "    plt.title(str(num_tree_nodes)+\" tree nodes. \"+str(elapsed)+\" seconds. \"+str(num_obstacles)+\" obstacles. \\nPath length: \"+str(path_length)+\" (\"+str(num_path_nodes)+\" nodes)\")\n",
    "    ax = plot_environment(environment,bounds)\n",
    "    plot_poly(ax,start_ball,'magenta')\n",
    "    plot_poly(ax,end_region,'green')\n",
    "    for i in range(len(path)-1):\n",
    "        line = LineString([path[i],path[i+1]])\n",
    "        plot_line(ax,line)\n",
    "    for i, obs in enumerate(environment.obstacles):\n",
    "        plot_poly(ax, obs, color, alpha=1.0, zorder=1)\n",
    "    plt.plot()\n",
    "                          \n",
    "def SampleFree(bounds,environment,radius):\n",
    "    found = False\n",
    "    while found is False:\n",
    "        xcoor = np.random.uniform(bounds[0],bounds[2])\n",
    "        ycoor = np.random.uniform(bounds[1],bounds[3])\n",
    "        if collided_one_point((xcoor,ycoor),environment,radius) is False:\n",
    "            found = True\n",
    "    return (xcoor,ycoor)\n",
    "            \n",
    "def Nearest(x_rand,tree,opptree):\n",
    "    points_to_check = []\n",
    "    if x_rand in tree:\n",
    "        points_to_check.append(tree[x_rand])\n",
    "    if x_rand in opptree:\n",
    "        for child in opptree[x_rand]:\n",
    "            points_to_check.append(child)\n",
    "    min_dist = float('inf')\n",
    "    best_coorpair = None\n",
    "    for coorpair in points_to_check:\n",
    "        line = LineString([coorpair,x_rand])\n",
    "        if line.length < min_dist:\n",
    "            min_dist = line.length\n",
    "            best_coorpair = coorpair\n",
    "    return best_coorpair\n",
    "\n",
    "def Steer(x_nearest,x_rand,d):\n",
    "    line = LineString([x_nearest,x_rand])\n",
    "    newpoint = line.interpolate(d)\n",
    "    return (newpoint.x,newpoint.y)\n",
    "\n",
    "def collided_one_point(end,environment,radius):\n",
    "    for i,obs in enumerate(environment.obstacles):\n",
    "        if obs.contains(Point(end).buffer(radius,resolution=3)):\n",
    "            return True\n",
    "    return False\n",
    "\n",
    "def collided(start,end,environment,radius):\n",
    "    line = LineString([start,end])\n",
    "    expanded_line = line.buffer(radius,resolution=3)\n",
    "    for i,obs in enumerate(environment.obstacles):\n",
    "        if expanded_line.intersects(obs) or obs.contains(Point(end).buffer(radius,resolution=3)):\n",
    "            return True\n",
    "    return False\n",
    "\n",
    "def out_of_bounds(end,bounds):\n",
    "    if end[0]<bounds[0] or end[0]>bounds[2]:\n",
    "        return True\n",
    "    elif end[1]<bounds[1] or end[1]>bounds[3]:\n",
    "        return True\n",
    "    else:\n",
    "        return False\n",
    "\n",
    "def at_end(x_new,end_region):\n",
    "    if end_region.contains(Point(x_new)):\n",
    "        return True\n",
    "    else:\n",
    "        return False"
   ]
  },
  {
   "cell_type": "markdown",
   "metadata": {},
   "source": [
    "<a name=\"simple_env_code\"></a> **Test your code on the simple environment (20 points)**"
   ]
  },
  {
   "cell_type": "code",
   "execution_count": null,
   "metadata": {
    "deletable": false,
    "editable": false,
    "nbgrader": {
     "cell_type": "code",
     "checksum": "50dbd0e1b4f5a66da5c8273a7f4c0f4b",
     "grade": false,
     "grade_id": "simple_env_code",
     "locked": true,
     "schema_version": 3,
     "solution": false,
     "task": false
    },
    "tags": []
   },
   "outputs": [
    {
     "name": "stderr",
     "output_type": "stream",
     "text": [
      "/home/jovyan/fa2023-16-410/pset5_rrt/environment.py:136: ShapelyDeprecationWarning: Setting custom attributes on geometry objects is deprecated, and will raise an AttributeError in Shapely 2.0\n",
      "  polygon.name = name\n"
     ]
    }
   ],
   "source": [
    "# Test your code in the simple environment\n",
    "# don't modify this cell. It will be overwritten by the autograder.\n",
    "# if you want to test things, please create additional cells at the end\n",
    "environment = Environment('simple.yaml')\n",
    "radius = 0.3\n",
    "bounds = (-2, -3, 12, 8)\n",
    "start = (0, 0)\n",
    "goal_region = Polygon([(10,5), (10,6), (11,6), (11,5)])\n",
    "path = rrt(bounds, environment, start, radius, goal_region)\n",
    "# The check path function checks that the path is a list,\n",
    "# its elements are tuples and the start and end are correct\n",
    "# It doesn't check collisions.\n",
    "check_path(path, bounds, environment, start, radius, goal_region)"
   ]
  },
  {
   "cell_type": "markdown",
   "metadata": {},
   "source": [
    "<a name=\"bugtrap_env_code\"></a> **Test your code on the bugtrap environment (20 points)**"
   ]
  },
  {
   "cell_type": "code",
   "execution_count": 5,
   "metadata": {
    "deletable": false,
    "editable": false,
    "nbgrader": {
     "cell_type": "code",
     "checksum": "3b1a769160a8bac9a02433748271b966",
     "grade": false,
     "grade_id": "bugtrap_env_code",
     "locked": true,
     "schema_version": 3,
     "solution": false,
     "task": false
    },
    "tags": []
   },
   "outputs": [
    {
     "ename": "AttributeError",
     "evalue": "'Polygon' object has no attribute 'name'",
     "output_type": "error",
     "traceback": [
      "\u001b[0;31m---------------------------------------------------------------------------\u001b[0m",
      "\u001b[0;31mAttributeError\u001b[0m                            Traceback (most recent call last)",
      "Cell \u001b[0;32mIn [5], line 4\u001b[0m\n\u001b[1;32m      1\u001b[0m \u001b[38;5;66;03m# Test your code in the bugtrap environment\u001b[39;00m\n\u001b[1;32m      2\u001b[0m \u001b[38;5;66;03m# don't modify this cell. It will be overwritten by the autograder.\u001b[39;00m\n\u001b[1;32m      3\u001b[0m \u001b[38;5;66;03m# if you want to test things, please create additional cells at the end\u001b[39;00m\n\u001b[0;32m----> 4\u001b[0m environment \u001b[38;5;241m=\u001b[39m \u001b[43mEnvironment\u001b[49m\u001b[43m(\u001b[49m\u001b[38;5;124;43m'\u001b[39;49m\u001b[38;5;124;43mbugtrap.yaml\u001b[39;49m\u001b[38;5;124;43m'\u001b[39;49m\u001b[43m)\u001b[49m\n\u001b[1;32m      5\u001b[0m radius \u001b[38;5;241m=\u001b[39m \u001b[38;5;241m0.3\u001b[39m\n\u001b[1;32m      6\u001b[0m bounds \u001b[38;5;241m=\u001b[39m (\u001b[38;5;241m-\u001b[39m\u001b[38;5;241m2\u001b[39m, \u001b[38;5;241m-\u001b[39m\u001b[38;5;241m3\u001b[39m, \u001b[38;5;241m12\u001b[39m, \u001b[38;5;241m8\u001b[39m)\n",
      "File \u001b[0;32m~/fa2023-16-410/pset5_rrt/environment.py:54\u001b[0m, in \u001b[0;36mEnvironment.__init__\u001b[0;34m(self, yaml_file, bounds)\u001b[0m\n\u001b[1;32m     52\u001b[0m \u001b[38;5;28mself\u001b[39m\u001b[38;5;241m.\u001b[39mbounds \u001b[38;5;241m=\u001b[39m bounds\n\u001b[1;32m     53\u001b[0m \u001b[38;5;28;01mif\u001b[39;00m \u001b[38;5;129;01mnot\u001b[39;00m yaml_file \u001b[38;5;129;01mis\u001b[39;00m \u001b[38;5;28;01mNone\u001b[39;00m:\n\u001b[0;32m---> 54\u001b[0m     \u001b[38;5;28;01mif\u001b[39;00m \u001b[38;5;28;43mself\u001b[39;49m\u001b[38;5;241;43m.\u001b[39;49m\u001b[43mload_from_yaml_file\u001b[49m\u001b[43m(\u001b[49m\u001b[43myaml_file\u001b[49m\u001b[43m)\u001b[49m:\n\u001b[1;32m     55\u001b[0m         \u001b[38;5;28;01mif\u001b[39;00m bounds \u001b[38;5;129;01mis\u001b[39;00m \u001b[38;5;28;01mNone\u001b[39;00m:\n\u001b[1;32m     56\u001b[0m             \u001b[38;5;28mself\u001b[39m\u001b[38;5;241m.\u001b[39mcalculate_scene_dimensions()\n",
      "File \u001b[0;32m~/fa2023-16-410/pset5_rrt/environment.py:80\u001b[0m, in \u001b[0;36mEnvironment.load_from_yaml_file\u001b[0;34m(self, yaml_file)\u001b[0m\n\u001b[1;32m     78\u001b[0m \u001b[38;5;28mself\u001b[39m\u001b[38;5;241m.\u001b[39mdata \u001b[38;5;241m=\u001b[39m yaml\u001b[38;5;241m.\u001b[39msafe_load(f)\n\u001b[1;32m     79\u001b[0m f\u001b[38;5;241m.\u001b[39mclose()\n\u001b[0;32m---> 80\u001b[0m \u001b[38;5;28;01mreturn\u001b[39;00m \u001b[38;5;28;43mself\u001b[39;49m\u001b[38;5;241;43m.\u001b[39;49m\u001b[43mparse_yaml_data\u001b[49m\u001b[43m(\u001b[49m\u001b[38;5;28;43mself\u001b[39;49m\u001b[38;5;241;43m.\u001b[39;49m\u001b[43mdata\u001b[49m\u001b[43m)\u001b[49m\n",
      "File \u001b[0;32m~/fa2023-16-410/pset5_rrt/environment.py:85\u001b[0m, in \u001b[0;36mEnvironment.parse_yaml_data\u001b[0;34m(self, data)\u001b[0m\n\u001b[1;32m     83\u001b[0m \u001b[38;5;28;01mif\u001b[39;00m \u001b[38;5;124m'\u001b[39m\u001b[38;5;124menvironment\u001b[39m\u001b[38;5;124m'\u001b[39m \u001b[38;5;129;01min\u001b[39;00m data:\n\u001b[1;32m     84\u001b[0m     env \u001b[38;5;241m=\u001b[39m data[\u001b[38;5;124m'\u001b[39m\u001b[38;5;124menvironment\u001b[39m\u001b[38;5;124m'\u001b[39m]\n\u001b[0;32m---> 85\u001b[0m     \u001b[38;5;28;43mself\u001b[39;49m\u001b[38;5;241;43m.\u001b[39;49m\u001b[43mparse_yaml_obstacles\u001b[49m\u001b[43m(\u001b[49m\u001b[43menv\u001b[49m\u001b[43m[\u001b[49m\u001b[38;5;124;43m'\u001b[39;49m\u001b[38;5;124;43mobstacles\u001b[39;49m\u001b[38;5;124;43m'\u001b[39;49m\u001b[43m]\u001b[49m\u001b[43m)\u001b[49m\n\u001b[1;32m     86\u001b[0m     \u001b[38;5;66;03m# self.parse_yaml_features(env['features'])\u001b[39;00m\n\u001b[1;32m     87\u001b[0m     \u001b[38;5;28;01mreturn\u001b[39;00m \u001b[38;5;28;01mTrue\u001b[39;00m\n",
      "File \u001b[0;32m~/fa2023-16-410/pset5_rrt/environment.py:101\u001b[0m, in \u001b[0;36mEnvironment.parse_yaml_obstacles\u001b[0;34m(self, obstacles)\u001b[0m\n\u001b[1;32m     99\u001b[0m     parsed \u001b[38;5;241m=\u001b[39m \u001b[38;5;28mself\u001b[39m\u001b[38;5;241m.\u001b[39mparse_rectangle(name, description)\n\u001b[1;32m    100\u001b[0m \u001b[38;5;28;01melif\u001b[39;00m description[\u001b[38;5;124m'\u001b[39m\u001b[38;5;124mshape\u001b[39m\u001b[38;5;124m'\u001b[39m] \u001b[38;5;241m==\u001b[39m \u001b[38;5;124m'\u001b[39m\u001b[38;5;124mpolygon\u001b[39m\u001b[38;5;124m'\u001b[39m:\n\u001b[0;32m--> 101\u001b[0m     parsed \u001b[38;5;241m=\u001b[39m \u001b[38;5;28;43mself\u001b[39;49m\u001b[38;5;241;43m.\u001b[39;49m\u001b[43mparse_polygon\u001b[49m\u001b[43m(\u001b[49m\u001b[43mname\u001b[49m\u001b[43m,\u001b[49m\u001b[43m \u001b[49m\u001b[43mdescription\u001b[49m\u001b[43m)\u001b[49m\n\u001b[1;32m    102\u001b[0m \u001b[38;5;28;01melse\u001b[39;00m:\n\u001b[1;32m    103\u001b[0m     \u001b[38;5;28;01mraise\u001b[39;00m \u001b[38;5;167;01mException\u001b[39;00m(\u001b[38;5;124m\"\u001b[39m\u001b[38;5;124mnot a rectangle\u001b[39m\u001b[38;5;124m\"\u001b[39m)\n",
      "File \u001b[0;32m~/fa2023-16-410/pset5_rrt/environment.py:136\u001b[0m, in \u001b[0;36mEnvironment.parse_polygon\u001b[0;34m(self, name, description)\u001b[0m\n\u001b[1;32m    134\u001b[0m \u001b[38;5;28;01mfor\u001b[39;00m points \u001b[38;5;129;01min\u001b[39;00m itertools\u001b[38;5;241m.\u001b[39mpermutations(_points):\n\u001b[1;32m    135\u001b[0m     polygon \u001b[38;5;241m=\u001b[39m geom\u001b[38;5;241m.\u001b[39mPolygon(points)\n\u001b[0;32m--> 136\u001b[0m     \u001b[43mpolygon\u001b[49m\u001b[38;5;241;43m.\u001b[39;49m\u001b[43mname\u001b[49m \u001b[38;5;241m=\u001b[39m name\n\u001b[1;32m    137\u001b[0m     \u001b[38;5;28;01mif\u001b[39;00m polygon\u001b[38;5;241m.\u001b[39mis_valid:\n\u001b[1;32m    138\u001b[0m         \u001b[38;5;28;01mreturn\u001b[39;00m polygon\n",
      "\u001b[0;31mAttributeError\u001b[0m: 'Polygon' object has no attribute 'name'"
     ]
    }
   ],
   "source": [
    "# Test your code in the bugtrap environment\n",
    "# don't modify this cell. It will be overwritten by the autograder.\n",
    "# if you want to test things, please create additional cells at the end\n",
    "environment = Environment('bugtrap.yaml')\n",
    "radius = 0.3\n",
    "bounds = (-2, -3, 12, 8)\n",
    "start = (2, 2.5)\n",
    "goal_region = Polygon([(10,5), (10,6), (11,6), (11,5)])\n",
    "path = rrt(bounds, environment, start, radius, goal_region)\n",
    "# The check path function checks that the path is a list,\n",
    "# its elements are tuples and the start and end are correct\n",
    "# It doesn't check collisions.\n",
    "check_path(path, bounds, environment, start, radius, goal_region)"
   ]
  },
  {
   "cell_type": "markdown",
   "metadata": {},
   "source": [
    "<a name=\"hard_env_code\"></a> **Test your code on the harder environment that we have provided (10 points)**"
   ]
  },
  {
   "cell_type": "code",
   "execution_count": 6,
   "metadata": {},
   "outputs": [
    {
     "name": "stdout",
     "output_type": "stream",
     "text": [
      "(-5, -4, 15, 5)\n",
      "(12.019023511183015, 5.5)\n"
     ]
    },
    {
     "ename": "IndexError",
     "evalue": "too many indices for array: array is 0-dimensional, but 2 were indexed",
     "output_type": "error",
     "traceback": [
      "\u001b[0;31m---------------------------------------------------------------------------\u001b[0m",
      "\u001b[0;31mIndexError\u001b[0m                                Traceback (most recent call last)",
      "Cell \u001b[0;32mIn [6], line 39\u001b[0m\n\u001b[1;32m     37\u001b[0m bounds \u001b[38;5;241m=\u001b[39m (\u001b[38;5;241m-\u001b[39m\u001b[38;5;241m5\u001b[39m, \u001b[38;5;241m-\u001b[39m\u001b[38;5;241m4\u001b[39m, \u001b[38;5;241m15\u001b[39m, \u001b[38;5;241m5\u001b[39m)\n\u001b[1;32m     38\u001b[0m env \u001b[38;5;241m=\u001b[39m random_environment(bounds, start, radius, goal_region, \u001b[38;5;241m600\u001b[39m, (\u001b[38;5;241m0.2\u001b[39m, \u001b[38;5;241m0.4\u001b[39m))\n\u001b[0;32m---> 39\u001b[0m \u001b[43mplot_environment\u001b[49m\u001b[43m(\u001b[49m\u001b[43menv\u001b[49m\u001b[43m)\u001b[49m\n",
      "File \u001b[0;32m~/fa2023-16-410/pset5_rrt/environment.py:29\u001b[0m, in \u001b[0;36mplot_environment\u001b[0;34m(env, bounds, figsize)\u001b[0m\n\u001b[1;32m     27\u001b[0m ax \u001b[38;5;241m=\u001b[39m f\u001b[38;5;241m.\u001b[39madd_subplot(\u001b[38;5;241m111\u001b[39m)\n\u001b[1;32m     28\u001b[0m \u001b[38;5;28;01mfor\u001b[39;00m i, obs \u001b[38;5;129;01min\u001b[39;00m \u001b[38;5;28menumerate\u001b[39m(env\u001b[38;5;241m.\u001b[39mobstacles):\n\u001b[0;32m---> 29\u001b[0m     patch \u001b[38;5;241m=\u001b[39m \u001b[43mPolygonPatch\u001b[49m\u001b[43m(\u001b[49m\u001b[43mobs\u001b[49m\u001b[43m,\u001b[49m\u001b[43m \u001b[49m\u001b[43mfc\u001b[49m\u001b[38;5;241;43m=\u001b[39;49m\u001b[38;5;124;43m'\u001b[39;49m\u001b[38;5;124;43mblue\u001b[39;49m\u001b[38;5;124;43m'\u001b[39;49m\u001b[43m,\u001b[49m\u001b[43m \u001b[49m\u001b[43mec\u001b[49m\u001b[38;5;241;43m=\u001b[39;49m\u001b[38;5;124;43m'\u001b[39;49m\u001b[38;5;124;43mblue\u001b[39;49m\u001b[38;5;124;43m'\u001b[39;49m\u001b[43m,\u001b[49m\u001b[43m \u001b[49m\u001b[43malpha\u001b[49m\u001b[38;5;241;43m=\u001b[39;49m\u001b[38;5;241;43m0.5\u001b[39;49m\u001b[43m,\u001b[49m\u001b[43m \u001b[49m\u001b[43mzorder\u001b[49m\u001b[38;5;241;43m=\u001b[39;49m\u001b[38;5;241;43m20\u001b[39;49m\u001b[43m)\u001b[49m\n\u001b[1;32m     30\u001b[0m     ax\u001b[38;5;241m.\u001b[39madd_patch(patch)\n\u001b[1;32m     32\u001b[0m plt\u001b[38;5;241m.\u001b[39mxlim([minx, maxx])\n",
      "File \u001b[0;32m/opt/conda/lib/python3.10/site-packages/descartes/patch.py:87\u001b[0m, in \u001b[0;36mPolygonPatch\u001b[0;34m(polygon, **kwargs)\u001b[0m\n\u001b[1;32m     73\u001b[0m \u001b[38;5;28;01mdef\u001b[39;00m \u001b[38;5;21mPolygonPatch\u001b[39m(polygon, \u001b[38;5;241m*\u001b[39m\u001b[38;5;241m*\u001b[39mkwargs):\n\u001b[1;32m     74\u001b[0m     \u001b[38;5;124;03m\"\"\"Constructs a matplotlib patch from a geometric object\u001b[39;00m\n\u001b[1;32m     75\u001b[0m \n\u001b[1;32m     76\u001b[0m \u001b[38;5;124;03m    The `polygon` may be a Shapely or GeoJSON-like object with or without holes.\u001b[39;00m\n\u001b[0;32m   (...)\u001b[0m\n\u001b[1;32m     85\u001b[0m \n\u001b[1;32m     86\u001b[0m \u001b[38;5;124;03m    \"\"\"\u001b[39;00m\n\u001b[0;32m---> 87\u001b[0m     \u001b[38;5;28;01mreturn\u001b[39;00m PathPatch(\u001b[43mPolygonPath\u001b[49m\u001b[43m(\u001b[49m\u001b[43mpolygon\u001b[49m\u001b[43m)\u001b[49m, \u001b[38;5;241m*\u001b[39m\u001b[38;5;241m*\u001b[39mkwargs)\n",
      "File \u001b[0;32m/opt/conda/lib/python3.10/site-packages/descartes/patch.py:62\u001b[0m, in \u001b[0;36mPolygonPath\u001b[0;34m(polygon)\u001b[0m\n\u001b[1;32m     58\u001b[0m     \u001b[38;5;28;01melse\u001b[39;00m:\n\u001b[1;32m     59\u001b[0m         \u001b[38;5;28;01mraise\u001b[39;00m \u001b[38;5;167;01mValueError\u001b[39;00m(\n\u001b[1;32m     60\u001b[0m             \u001b[38;5;124m\"\u001b[39m\u001b[38;5;124mA polygon or multi-polygon representation is required\u001b[39m\u001b[38;5;124m\"\u001b[39m)\n\u001b[0;32m---> 62\u001b[0m vertices \u001b[38;5;241m=\u001b[39m concatenate([\n\u001b[1;32m     63\u001b[0m     concatenate([asarray(t\u001b[38;5;241m.\u001b[39mexterior)[:, :\u001b[38;5;241m2\u001b[39m]] \u001b[38;5;241m+\u001b[39m\n\u001b[1;32m     64\u001b[0m                 [asarray(r)[:, :\u001b[38;5;241m2\u001b[39m] \u001b[38;5;28;01mfor\u001b[39;00m r \u001b[38;5;129;01min\u001b[39;00m t\u001b[38;5;241m.\u001b[39minteriors])\n\u001b[1;32m     65\u001b[0m     \u001b[38;5;28;01mfor\u001b[39;00m t \u001b[38;5;129;01min\u001b[39;00m polygon])\n\u001b[1;32m     66\u001b[0m codes \u001b[38;5;241m=\u001b[39m concatenate([\n\u001b[1;32m     67\u001b[0m     concatenate([coding(t\u001b[38;5;241m.\u001b[39mexterior)] \u001b[38;5;241m+\u001b[39m\n\u001b[1;32m     68\u001b[0m                 [coding(r) \u001b[38;5;28;01mfor\u001b[39;00m r \u001b[38;5;129;01min\u001b[39;00m t\u001b[38;5;241m.\u001b[39minteriors]) \u001b[38;5;28;01mfor\u001b[39;00m t \u001b[38;5;129;01min\u001b[39;00m polygon])\n\u001b[1;32m     70\u001b[0m \u001b[38;5;28;01mreturn\u001b[39;00m Path(vertices, codes)\n",
      "File \u001b[0;32m/opt/conda/lib/python3.10/site-packages/descartes/patch.py:63\u001b[0m, in \u001b[0;36m<listcomp>\u001b[0;34m(.0)\u001b[0m\n\u001b[1;32m     58\u001b[0m     \u001b[38;5;28;01melse\u001b[39;00m:\n\u001b[1;32m     59\u001b[0m         \u001b[38;5;28;01mraise\u001b[39;00m \u001b[38;5;167;01mValueError\u001b[39;00m(\n\u001b[1;32m     60\u001b[0m             \u001b[38;5;124m\"\u001b[39m\u001b[38;5;124mA polygon or multi-polygon representation is required\u001b[39m\u001b[38;5;124m\"\u001b[39m)\n\u001b[1;32m     62\u001b[0m vertices \u001b[38;5;241m=\u001b[39m concatenate([\n\u001b[0;32m---> 63\u001b[0m     concatenate([\u001b[43masarray\u001b[49m\u001b[43m(\u001b[49m\u001b[43mt\u001b[49m\u001b[38;5;241;43m.\u001b[39;49m\u001b[43mexterior\u001b[49m\u001b[43m)\u001b[49m\u001b[43m[\u001b[49m\u001b[43m:\u001b[49m\u001b[43m,\u001b[49m\u001b[43m \u001b[49m\u001b[43m:\u001b[49m\u001b[38;5;241;43m2\u001b[39;49m\u001b[43m]\u001b[49m] \u001b[38;5;241m+\u001b[39m\n\u001b[1;32m     64\u001b[0m                 [asarray(r)[:, :\u001b[38;5;241m2\u001b[39m] \u001b[38;5;28;01mfor\u001b[39;00m r \u001b[38;5;129;01min\u001b[39;00m t\u001b[38;5;241m.\u001b[39minteriors])\n\u001b[1;32m     65\u001b[0m     \u001b[38;5;28;01mfor\u001b[39;00m t \u001b[38;5;129;01min\u001b[39;00m polygon])\n\u001b[1;32m     66\u001b[0m codes \u001b[38;5;241m=\u001b[39m concatenate([\n\u001b[1;32m     67\u001b[0m     concatenate([coding(t\u001b[38;5;241m.\u001b[39mexterior)] \u001b[38;5;241m+\u001b[39m\n\u001b[1;32m     68\u001b[0m                 [coding(r) \u001b[38;5;28;01mfor\u001b[39;00m r \u001b[38;5;129;01min\u001b[39;00m t\u001b[38;5;241m.\u001b[39minteriors]) \u001b[38;5;28;01mfor\u001b[39;00m t \u001b[38;5;129;01min\u001b[39;00m polygon])\n\u001b[1;32m     70\u001b[0m \u001b[38;5;28;01mreturn\u001b[39;00m Path(vertices, codes)\n",
      "\u001b[0;31mIndexError\u001b[0m: too many indices for array: array is 0-dimensional, but 2 were indexed"
     ]
    },
    {
     "data": {
      "image/png": "[encoded data removed]",
      "text/plain": [
       "<Figure size 1201.9x550 with 1 Axes>"
      ]
     },
     "metadata": {},
     "output_type": "display_data"
    }
   ],
   "source": [
    "def random_environment(bounds, start, radius, goal, n, size_limits=(0.5, 1.5)):\n",
    "    minx, miny, maxx, maxy = bounds\n",
    "    print(bounds)\n",
    "    edges = 4\n",
    "    minl, maxl = size_limits\n",
    "    env = Environment(None)\n",
    "    obs = []\n",
    "    start_pose = Point(start).buffer(radius, resolution=3)\n",
    "    obi = 0\n",
    "    while obi < n:\n",
    "        r = np.random.uniform(low=0.0, high=1.0, size=2)\n",
    "        xy = np.array([minx + (maxx-minx)*r[0], miny + (maxy-miny)*r[1]])\n",
    "        \n",
    "        angles = np.random.rand(edges)\n",
    "        angles = angles*2*np.pi / np.sum(angles)\n",
    "        for i in range(1,len(angles)):\n",
    "            angles[i] = angles[i-1] + angles[i]\n",
    "        angles = 2*np.pi * angles / angles[-1] \n",
    "        angles = angles + 2*np.pi*np.random.rand()\n",
    "        lengths = 0.5*minl + (maxl-minl) * 0.5 * np.random.rand(edges)\n",
    "        xx = xy[0] + np.array([l*np.cos(a) for a,l in zip(angles,lengths)])\n",
    "        yy = xy[1] + np.array([l*np.sin(a) for a,l in zip(angles,lengths)])\n",
    "        p = Polygon([(x,y) for x,y in zip(xx,yy)])\n",
    "        if p.intersects(start_pose) or p.intersects(goal):\n",
    "            continue\n",
    "        else:\n",
    "            obi = obi + 1\n",
    "            obs.append(p)\n",
    "#         coords = xy + [l*np.cos(a),l*np.sin(a) for a,l in zip(angles,lengths)]\n",
    "    env.add_obstacles(obs)\n",
    "    return env\n",
    "\n",
    "\n",
    "start = (-4,-2)\n",
    "radius = 0.1\n",
    "goal_region = Polygon([(12,3), (12,4), (13,4),(13,3)])\n",
    "bounds = (-5, -4, 15, 5)\n",
    "env = random_environment(bounds, start, radius, goal_region, 600, (0.2, 0.4))\n",
    "plot_environment(env)"
   ]
  },
  {
   "cell_type": "code",
   "execution_count": 7,
   "metadata": {},
   "outputs": [],
   "source": [
    "env.save_to_yaml('challenging600.yaml')"
   ]
  },
  {
   "cell_type": "code",
   "execution_count": 8,
   "metadata": {
    "deletable": false,
    "editable": false,
    "nbgrader": {
     "cell_type": "code",
     "checksum": "ae6434c8de242e44e4d4660a034b7431",
     "grade": false,
     "grade_id": "hard_env_code",
     "locked": true,
     "schema_version": 3,
     "solution": false,
     "task": false
    },
    "tags": []
   },
   "outputs": [
    {
     "ename": "AttributeError",
     "evalue": "'Polygon' object has no attribute 'name'",
     "output_type": "error",
     "traceback": [
      "\u001b[0;31m---------------------------------------------------------------------------\u001b[0m",
      "\u001b[0;31mAttributeError\u001b[0m                            Traceback (most recent call last)",
      "Cell \u001b[0;32mIn [8], line 2\u001b[0m\n\u001b[1;32m      1\u001b[0m \u001b[38;5;66;03m# Test your code in the challenging environment that you made\u001b[39;00m\n\u001b[0;32m----> 2\u001b[0m environment \u001b[38;5;241m=\u001b[39m \u001b[43mEnvironment\u001b[49m\u001b[43m(\u001b[49m\u001b[38;5;124;43m'\u001b[39;49m\u001b[38;5;124;43mchallenging600.yaml\u001b[39;49m\u001b[38;5;124;43m'\u001b[39;49m\u001b[43m)\u001b[49m\n\u001b[1;32m      3\u001b[0m \u001b[38;5;66;03m# radius = 0.2\u001b[39;00m\n\u001b[1;32m      4\u001b[0m \u001b[38;5;66;03m# bounds = (-2, -3, 12, 8)\u001b[39;00m\n\u001b[1;32m      5\u001b[0m \u001b[38;5;66;03m# start = (2, 2.5)\u001b[39;00m\n\u001b[1;32m      6\u001b[0m \u001b[38;5;66;03m# goal_region = Polygon([(10,5), (10,6), (11,6), (11,5)])\u001b[39;00m\n\u001b[1;32m      7\u001b[0m path \u001b[38;5;241m=\u001b[39m rrt(bounds, environment, start, radius, goal_region)\n",
      "File \u001b[0;32m~/fa2023-16-410/pset5_rrt/environment.py:54\u001b[0m, in \u001b[0;36mEnvironment.__init__\u001b[0;34m(self, yaml_file, bounds)\u001b[0m\n\u001b[1;32m     52\u001b[0m \u001b[38;5;28mself\u001b[39m\u001b[38;5;241m.\u001b[39mbounds \u001b[38;5;241m=\u001b[39m bounds\n\u001b[1;32m     53\u001b[0m \u001b[38;5;28;01mif\u001b[39;00m \u001b[38;5;129;01mnot\u001b[39;00m yaml_file \u001b[38;5;129;01mis\u001b[39;00m \u001b[38;5;28;01mNone\u001b[39;00m:\n\u001b[0;32m---> 54\u001b[0m     \u001b[38;5;28;01mif\u001b[39;00m \u001b[38;5;28;43mself\u001b[39;49m\u001b[38;5;241;43m.\u001b[39;49m\u001b[43mload_from_yaml_file\u001b[49m\u001b[43m(\u001b[49m\u001b[43myaml_file\u001b[49m\u001b[43m)\u001b[49m:\n\u001b[1;32m     55\u001b[0m         \u001b[38;5;28;01mif\u001b[39;00m bounds \u001b[38;5;129;01mis\u001b[39;00m \u001b[38;5;28;01mNone\u001b[39;00m:\n\u001b[1;32m     56\u001b[0m             \u001b[38;5;28mself\u001b[39m\u001b[38;5;241m.\u001b[39mcalculate_scene_dimensions()\n",
      "File \u001b[0;32m~/fa2023-16-410/pset5_rrt/environment.py:80\u001b[0m, in \u001b[0;36mEnvironment.load_from_yaml_file\u001b[0;34m(self, yaml_file)\u001b[0m\n\u001b[1;32m     78\u001b[0m \u001b[38;5;28mself\u001b[39m\u001b[38;5;241m.\u001b[39mdata \u001b[38;5;241m=\u001b[39m yaml\u001b[38;5;241m.\u001b[39msafe_load(f)\n\u001b[1;32m     79\u001b[0m f\u001b[38;5;241m.\u001b[39mclose()\n\u001b[0;32m---> 80\u001b[0m \u001b[38;5;28;01mreturn\u001b[39;00m \u001b[38;5;28;43mself\u001b[39;49m\u001b[38;5;241;43m.\u001b[39;49m\u001b[43mparse_yaml_data\u001b[49m\u001b[43m(\u001b[49m\u001b[38;5;28;43mself\u001b[39;49m\u001b[38;5;241;43m.\u001b[39;49m\u001b[43mdata\u001b[49m\u001b[43m)\u001b[49m\n",
      "File \u001b[0;32m~/fa2023-16-410/pset5_rrt/environment.py:85\u001b[0m, in \u001b[0;36mEnvironment.parse_yaml_data\u001b[0;34m(self, data)\u001b[0m\n\u001b[1;32m     83\u001b[0m \u001b[38;5;28;01mif\u001b[39;00m \u001b[38;5;124m'\u001b[39m\u001b[38;5;124menvironment\u001b[39m\u001b[38;5;124m'\u001b[39m \u001b[38;5;129;01min\u001b[39;00m data:\n\u001b[1;32m     84\u001b[0m     env \u001b[38;5;241m=\u001b[39m data[\u001b[38;5;124m'\u001b[39m\u001b[38;5;124menvironment\u001b[39m\u001b[38;5;124m'\u001b[39m]\n\u001b[0;32m---> 85\u001b[0m     \u001b[38;5;28;43mself\u001b[39;49m\u001b[38;5;241;43m.\u001b[39;49m\u001b[43mparse_yaml_obstacles\u001b[49m\u001b[43m(\u001b[49m\u001b[43menv\u001b[49m\u001b[43m[\u001b[49m\u001b[38;5;124;43m'\u001b[39;49m\u001b[38;5;124;43mobstacles\u001b[39;49m\u001b[38;5;124;43m'\u001b[39;49m\u001b[43m]\u001b[49m\u001b[43m)\u001b[49m\n\u001b[1;32m     86\u001b[0m     \u001b[38;5;66;03m# self.parse_yaml_features(env['features'])\u001b[39;00m\n\u001b[1;32m     87\u001b[0m     \u001b[38;5;28;01mreturn\u001b[39;00m \u001b[38;5;28;01mTrue\u001b[39;00m\n",
      "File \u001b[0;32m~/fa2023-16-410/pset5_rrt/environment.py:101\u001b[0m, in \u001b[0;36mEnvironment.parse_yaml_obstacles\u001b[0;34m(self, obstacles)\u001b[0m\n\u001b[1;32m     99\u001b[0m     parsed \u001b[38;5;241m=\u001b[39m \u001b[38;5;28mself\u001b[39m\u001b[38;5;241m.\u001b[39mparse_rectangle(name, description)\n\u001b[1;32m    100\u001b[0m \u001b[38;5;28;01melif\u001b[39;00m description[\u001b[38;5;124m'\u001b[39m\u001b[38;5;124mshape\u001b[39m\u001b[38;5;124m'\u001b[39m] \u001b[38;5;241m==\u001b[39m \u001b[38;5;124m'\u001b[39m\u001b[38;5;124mpolygon\u001b[39m\u001b[38;5;124m'\u001b[39m:\n\u001b[0;32m--> 101\u001b[0m     parsed \u001b[38;5;241m=\u001b[39m \u001b[38;5;28;43mself\u001b[39;49m\u001b[38;5;241;43m.\u001b[39;49m\u001b[43mparse_polygon\u001b[49m\u001b[43m(\u001b[49m\u001b[43mname\u001b[49m\u001b[43m,\u001b[49m\u001b[43m \u001b[49m\u001b[43mdescription\u001b[49m\u001b[43m)\u001b[49m\n\u001b[1;32m    102\u001b[0m \u001b[38;5;28;01melse\u001b[39;00m:\n\u001b[1;32m    103\u001b[0m     \u001b[38;5;28;01mraise\u001b[39;00m \u001b[38;5;167;01mException\u001b[39;00m(\u001b[38;5;124m\"\u001b[39m\u001b[38;5;124mnot a rectangle\u001b[39m\u001b[38;5;124m\"\u001b[39m)\n",
      "File \u001b[0;32m~/fa2023-16-410/pset5_rrt/environment.py:136\u001b[0m, in \u001b[0;36mEnvironment.parse_polygon\u001b[0;34m(self, name, description)\u001b[0m\n\u001b[1;32m    134\u001b[0m \u001b[38;5;28;01mfor\u001b[39;00m points \u001b[38;5;129;01min\u001b[39;00m itertools\u001b[38;5;241m.\u001b[39mpermutations(_points):\n\u001b[1;32m    135\u001b[0m     polygon \u001b[38;5;241m=\u001b[39m geom\u001b[38;5;241m.\u001b[39mPolygon(points)\n\u001b[0;32m--> 136\u001b[0m     \u001b[43mpolygon\u001b[49m\u001b[38;5;241;43m.\u001b[39;49m\u001b[43mname\u001b[49m \u001b[38;5;241m=\u001b[39m name\n\u001b[1;32m    137\u001b[0m     \u001b[38;5;28;01mif\u001b[39;00m polygon\u001b[38;5;241m.\u001b[39mis_valid:\n\u001b[1;32m    138\u001b[0m         \u001b[38;5;28;01mreturn\u001b[39;00m polygon\n",
      "\u001b[0;31mAttributeError\u001b[0m: 'Polygon' object has no attribute 'name'"
     ]
    }
   ],
   "source": [
    "# Test your code in the challenging environment that you made\n",
    "environment = Environment('challenging600.yaml')\n",
    "# radius = 0.2\n",
    "# bounds = (-2, -3, 12, 8)\n",
    "# start = (2, 2.5)\n",
    "# goal_region = Polygon([(10,5), (10,6), (11,6), (11,5)])\n",
    "path = rrt(bounds, environment, start, radius, goal_region)\n",
    "# The check path function checks that the path is a list,\n",
    "# its elements are tuples and the start and end are correct\n",
    "# It doesn't check collisions.\n",
    "check_path(path, bounds, environment, start, radius, goal_region)"
   ]
  },
  {
   "cell_type": "code",
   "execution_count": null,
   "metadata": {},
   "outputs": [],
   "source": []
  },
  {
   "cell_type": "code",
   "execution_count": null,
   "metadata": {},
   "outputs": [],
   "source": []
  }
 ],
 "metadata": {
  "anaconda-cloud": {},
  "kernelspec": {
   "display_name": "Python 3 (ipykernel)",
   "language": "python",
   "name": "python3"
  },
  "language_info": {
   "codemirror_mode": {
    "name": "ipython",
    "version": 3
   },
   "file_extension": ".py",
   "mimetype": "text/x-python",
   "name": "python",
   "nbconvert_exporter": "python",
   "pygments_lexer": "ipython3",
   "version": "3.10.6"
  }
 },
 "nbformat": 4,
 "nbformat_minor": 4
}
