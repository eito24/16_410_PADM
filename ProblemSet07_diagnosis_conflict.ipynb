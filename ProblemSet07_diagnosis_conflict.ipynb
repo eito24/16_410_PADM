{
 "cells": [
  {
   "cell_type": "code",
   "execution_count": 3,
   "metadata": {
    "tags": []
   },
   "outputs": [],
   "source": [
    "from Numberjack import *\n",
    "from math import *\n",
    "from nose.tools import assert_equal, ok_, assert_almost_equal\n",
    "from utils import *\n",
    "from tests import *\n",
    "from copy import *"
   ]
  },
  {
   "cell_type": "markdown",
   "metadata": {},
   "source": [
    "<div class=\"alert alert-warning\">\n",
    "**Important:** You will need SCIP to be working with Numberjack for this assignment. If you are having difficulties, refer to the Numberjack page on the course wiki.\n",
    "   \n",
    "\n",
    "If Numberjack isn't importing, restart the server by going to File->Hub Control Panel->Stop Server->Start Server.\n",
    "    \n",
    "Also make sure not to delete any of the answer cells or you will need to fetch a fresh copy of the assignment.\n",
    "</div>\n"
   ]
  },
  {
   "cell_type": "markdown",
   "metadata": {},
   "source": [
    "# Problem Set 07: Model Based Diagnosis and Conflicted Directed Search\n",
    "\n",
    "In this problem set, we will model the probabilistic diagnosis problem as an OptSat problem that can be solved using Numberjack. Then we will practice transforming conflicts into diagnoses and obtaining the kernel diagnosis.\n",
    "\n",
    "We will **not** be implementing a conflict-directed search algorithm directly. If that's something you want to learn, check out 16.412! However, it is important to understand the solvers we are calling using Numberjack have these conflict-directed search techniques built into them.\n",
    "\n",
    "0. [Credit for Contributors (required)](#contributors)\n",
    "\n",
    "1. [Model Based Diagnosis (40 points)](#problem1)\n",
    "\n",
    "2. [Generating Kernel Diagnoses from Conflicts (60 points)](#problem2)\n",
    " \n",
    "    \n",
    "**100 points** total for Problem Set 07\n"
   ]
  },
  {
   "cell_type": "markdown",
   "metadata": {},
   "source": [
    "## <a name=\"contributors\"></a> Credit for Contributors\n",
    "\n",
    "List the various students, lecture notes, or online resouces that helped you complete this problem set:\n",
    "\n",
    "Ex: I worked with Bob on the cat activity planning problem.\n",
    "\n",
    "<div class=\"alert alert-info\">\n",
    "Write your answer in the cell below this one.\n",
    "</div>"
   ]
  },
  {
   "cell_type": "markdown",
   "metadata": {},
   "source": [
    "--> *(double click on this cell to delete this text and type your answer here)*"
   ]
  },
  {
   "cell_type": "markdown",
   "metadata": {},
   "source": [
    "\n",
    "## Part 1: Model Based Diagnosis  <a name=\"problem1\"></a>\n",
    "\n",
    "For the purposes of this problem, we have specialized Numberjack's variable classes into two new subclasses; `AndVariable` and `XOrVariable`, used to indicate the status of AND gates and XOR gates, respetively. For the purposes of this exercise, components either behave correctly or are in an 'unknown' failure state, where any output can occur. The variables take the value of `1` when the component is behaving correctly, and `0` when they are in the unknown failure state.\n",
    "\n",
    "`AndVariable` and `XOrVariable` behave and can be used exactly like standard Numberjack binary variables, but they can be distinguished by their type, which we use in the objective function.\n",
    "\n",
    "### Problem 1 \n",
    "Consider AND and XOR gates as shown below. We assign variables to the component state (A1 or X1), as well as the inputs (in1 and in2) and outputs (out). Write a sentence in the language of propositional logic that encodes the behavior of the gates. Assume, as above, that a value of `1` assigned to the component state means it is working correctly, while `0` implies it is in an unknown failure state."
   ]
  },
  {
   "cell_type": "markdown",
   "metadata": {},
   "source": [
    "<img src='ANDgate.png'/> <img src='XORgate.png'/> "
   ]
  },
  {
   "cell_type": "markdown",
   "metadata": {},
   "source": [
    "<div class=\"alert alert-info\">\n",
    "Write your propositional sentences for the two gates below.\n",
    "</div>"
   ]
  },
  {
   "cell_type": "markdown",
   "metadata": {},
   "source": [
    "**Propositional sentence for AND gate: (10 points)**"
   ]
  },
  {
   "cell_type": "markdown",
   "metadata": {
    "deletable": false,
    "nbgrader": {
     "cell_type": "markdown",
     "checksum": "3a83cfff1b280fa1d70a952c527a63bf",
     "grade": true,
     "grade_id": "And_Sentence",
     "locked": true,
     "points": 10,
     "schema_version": 3,
     "solution": true
    },
    "tags": []
   },
   "source": [
    "(mode(A1) = 1 *or* mode(A1) = 0)\n",
    "*and*\n",
    "(mode(A1) = 1 *if and only if* (out = 1 *if and only if* (in1 = 1 *and* in2 = 1)))"
   ]
  },
  {
   "cell_type": "markdown",
   "metadata": {},
   "source": [
    "**Propositional sentence for XOR gate: (10 points)**"
   ]
  },
  {
   "cell_type": "markdown",
   "metadata": {
    "deletable": false,
    "nbgrader": {
     "cell_type": "markdown",
     "checksum": "a8d0f2d909b26da250260de74a6dd5c4",
     "grade": true,
     "grade_id": "Or_Sentence",
     "locked": true,
     "points": 10,
     "schema_version": 3,
     "solution": true
    },
    "tags": []
   },
   "source": [
    "(mode(X1) = 1 *or* mode(X1) = 0)\n",
    "*and*\n",
    "(mode(X1) = 1 *if and only if* (out = 1 *if and only if* ((in1 = 1 *and* in2 = 0) *or* (in1 = 0 *and* in2 = 1)))"
   ]
  },
  {
   "cell_type": "markdown",
   "metadata": {},
   "source": [
    "### Problem 2 (20 points)\n",
    "\n",
    "Now implement the functions `add_AndVariable` and `add_OrVariable` below, which add the behavior you just described to a Numberjack model. These functions take the following inputs:\n",
    "\n",
    "* `model`: A Numberjack defined with the `Model()` function.\n",
    "* `state`: An `AndVariable` or `XOrVariable` that describes the state of the component.\n",
    "* `in1`, `in2`: Binary variables describing the inputs to the component.\n",
    "* `out`: Binary variable describing the output of the component.\n",
    "\n",
    "They both output the model that was input with the behavior of their corresponding component added.\n",
    "\n",
    "You can add a constraint to a Numberjack model using commands such as\n",
    "\n",
    "```python\n",
    "model += (V1 | (V2 == 0)) & V3\n",
    "```\n",
    "\n",
    "Which we can interpet as the CNF statement\n",
    "\n",
    "$$(V_{1} \\, \\vee \\, \\bar{V_{2}}) \\, \\wedge \\, V_{3}$$"
   ]
  },
  {
   "cell_type": "markdown",
   "metadata": {},
   "source": [
    "<div class=\"alert alert-info\">\n",
    "Implement `add_AndVariable` and `add_XORVariable` below.\n",
    "</div>"
   ]
  },
  {
   "cell_type": "code",
   "execution_count": 4,
   "metadata": {
    "deletable": false,
    "nbgrader": {
     "cell_type": "code",
     "checksum": "8f1eb2e3a67e8d8a8f89fb321088ec4e",
     "grade": false,
     "grade_id": "andVariable",
     "locked": false,
     "schema_version": 3,
     "solution": true
    },
    "tags": []
   },
   "outputs": [
    {
     "data": {
      "text/plain": [
       "'\\nstate => (out=>(in1&in2))\\nstate => [(out->(in1&in2)) and ((in1&in2)->out)]\\nstate => [(!out or (in1&in2)) and (!(in1&in2) or out)]\\nstate => [(!out or (in1&in2)) and (!in1 or !in2 or out)]\\nstate => [((!out or in1) and (!out or in2)) and (!in1 or !in2 or out)]\\n\\nstate -> [((!out or in1) and (!out or in2)) and (!in1 or !in2 or out)]\\n!state or [((!out or in1) and (!out or in2)) and (!in1 or !in2 or out)]\\n\\n(!state or !out or in1) and (!state or !out or in2) and (!state or !in1 or !in2 or out)\\n\\n[((!out or in1) and (!out or in2)) and (!in1 or !in2 or out)] -> state\\n![((!out or in1) and (!out or in2)) and (!in1 or !in2 or out)] or state\\n[!((!out or in1) and (!out or in2)) or !(!in1 or !in2 or out)] or state\\n[(!(!out or in1) or !(!out or in2)) or (in1 and in2 and !out)] or state\\n\\n[((out and !in1) or (out and !in2)) or (in1 and in2 and !out)] or state\\n'"
      ]
     },
     "execution_count": 4,
     "metadata": {},
     "output_type": "execute_result"
    }
   ],
   "source": [
    "def add_AndVariable(model,state,in1,in2,out):\n",
    "    model += (state==0) | (out==0) | in1\n",
    "    model += (state==0) | (out==0) | in2\n",
    "    model += (state==0) | (in1==0) | (in2==0) | out\n",
    "    model += (out & (in1==0)) | (out & (in2==0)) | (in1 & in2 & (out==0)) | state\n",
    "    \n",
    "    return model       \n",
    "\"\"\"\n",
    "state => (out=>(in1&in2))\n",
    "state => [(out->(in1&in2)) and ((in1&in2)->out)]\n",
    "state => [(!out or (in1&in2)) and (!(in1&in2) or out)]\n",
    "state => [(!out or (in1&in2)) and (!in1 or !in2 or out)]\n",
    "state => [((!out or in1) and (!out or in2)) and (!in1 or !in2 or out)]\n",
    "\n",
    "state -> [((!out or in1) and (!out or in2)) and (!in1 or !in2 or out)]\n",
    "!state or [((!out or in1) and (!out or in2)) and (!in1 or !in2 or out)]\n",
    "\n",
    "(!state or !out or in1) and (!state or !out or in2) and (!state or !in1 or !in2 or out)\n",
    "\n",
    "[((!out or in1) and (!out or in2)) and (!in1 or !in2 or out)] -> state\n",
    "![((!out or in1) and (!out or in2)) and (!in1 or !in2 or out)] or state\n",
    "[!((!out or in1) and (!out or in2)) or !(!in1 or !in2 or out)] or state\n",
    "[(!(!out or in1) or !(!out or in2)) or (in1 and in2 and !out)] or state\n",
    "\n",
    "[((out and !in1) or (out and !in2)) or (in1 and in2 and !out)] or state\n",
    "\"\"\""
   ]
  },
  {
   "cell_type": "code",
   "execution_count": 5,
   "metadata": {
    "deletable": false,
    "editable": false,
    "nbgrader": {
     "cell_type": "code",
     "checksum": "91b17a92ba352b33e0ed4b10d7f68956",
     "grade": true,
     "grade_id": "add_AndVariable",
     "locked": true,
     "points": 10,
     "schema_version": 3,
     "solution": false
    }
   },
   "outputs": [
    {
     "data": {
      "text/html": [
       "<div class=\"alert alert-success\">\n",
       "        <strong>Test passed!!</strong>\n",
       "        </div>"
      ]
     },
     "metadata": {},
     "output_type": "display_data"
    }
   ],
   "source": [
    "test_add_AndVariable(add_AndVariable)"
   ]
  },
  {
   "cell_type": "code",
   "execution_count": 6,
   "metadata": {
    "deletable": false,
    "nbgrader": {
     "cell_type": "code",
     "checksum": "cd3ffdab97b5c897a7afdb8f2a2afb13",
     "grade": false,
     "grade_id": "xorVariable",
     "locked": false,
     "schema_version": 3,
     "solution": true
    },
    "tags": []
   },
   "outputs": [
    {
     "data": {
      "text/plain": [
       "'                                                                       \\nstate=>(out=>((in1 and !in2) or (!in1 and in2)))\\nstate=>[(out->((in1 and !in2) or (!in1 and in2))) and (((in1 and !in2) or (!in1 and in2))->out)]\\nstate=>[(!out or ((in1 and !in2) or (!in1 and in2))) and (!((in1 and !in2) or (!in1 and in2)) or out)]\\nstate=>[(!out or (in1 and !in2) or (!in1 and in2)) and ((!(in1 and !in2) and !(!in1 and in2)) or out)]\\nstate=>[(!out or (in1 and !in2) or (!in1 and in2)) and (((!in1 or in2) and (in1 or !in2)) or out)]\\nstate=>[(!out or (in1 and !in2) or (!in1 and in2)) and (!in1 or in2 or out) and (in1 or !in2 or out)]\\nstate=>[(((!out or in1) and (!out or !in2)) or (!in1 and in2)) and (!in1 or in2 or out) and (in1 or !in2 or out)]\\nstate=>[(((!out or in1 or (!in1 and in2)) and (!out or !in2 or (!in1 and in2)))) and (!in1 or in2 or out) and (in1 or !in2 or out)]\\nstate=>[(((!out or in1 or !in1) and (!out or in1 or in2)) and (!out or !in2 or !in1) and (!out or !in2 or in2)) and (!in1 or in2 or out) and (in1 or !in2 or out)]\\nstate=>[(!out or in1 or in2) and (!out or !in2 or !in1) and (!in1 or in2 or out) and (in1 or !in2 or out)]\\n\\nstate->[(!out or in1 or in2) and (!out or !in2 or !in1) and (!in1 or in2 or out) and (in1 or !in2 or out)]\\n!state or [(!out or in1 or in2) and (!out or !in2 or !in1) and (!in1 or in2 or out) and (in1 or !in2 or out)]\\n(!state or !out or in1 or in2) and (!state or !out or !in2 or !in1) and (!state or !in1 or in2 or out) and (!state or in1 or !in2 or out)\\nand\\n[(!out or in1 or in2) and (!out or !in2 or !in1) and (!in1 or in2 or out) and (in1 or !in2 or out)]->state\\n![(!out or in1 or in2) and (!out or !in2 or !in1) and (!in1 or in2 or out) and (in1 or !in2 or out)] or state\\n[!(!out or in1 or in2) or !(!out or !in2 or !in1) or !(!in1 or in2 or out) or !(in1 or !in2 or out)] or state\\n[(out and !in1 and !in2) or (out and in2 and in1) or (in1 and !in2 and !out) or (!in1 and in2 and !out)] or state\\n(out and !in1 and !in2) or (out and in2 and in1) or (in1 and !in2 and !out) or (!in1 and in2 and !out) or state\\n'"
      ]
     },
     "execution_count": 6,
     "metadata": {},
     "output_type": "execute_result"
    }
   ],
   "source": [
    "def add_XOrVariable(model,state,in1,in2,out):\n",
    "    model += (out == 0) | (state == 0) | (in1 == 0) | (in2 == 0)\n",
    "    model += (out == 0) | in1 | in2 | (state==0)\n",
    "    model += (out == 0) | (in2 == 0) | (in1 == 0) | (state == 0)\n",
    "    model += (in1 == 0) | in2 | out | (state == 0)\n",
    "    model += in1 | (in2 == 0) | out | (state == 0)\n",
    "    model += (out & (in1 == 0) & (in2 == 0)) | (out & in2 & in1) | (in1 & (in2 == 0) & (out == 0) |((in1 == 0) & in2 & (out == 0)) | state)\n",
    "    return model\n",
    "\"\"\"                                                                       \n",
    "state=>(out=>((in1 and !in2) or (!in1 and in2)))\n",
    "state=>[(out->((in1 and !in2) or (!in1 and in2))) and (((in1 and !in2) or (!in1 and in2))->out)]\n",
    "state=>[(!out or ((in1 and !in2) or (!in1 and in2))) and (!((in1 and !in2) or (!in1 and in2)) or out)]\n",
    "state=>[(!out or (in1 and !in2) or (!in1 and in2)) and ((!(in1 and !in2) and !(!in1 and in2)) or out)]\n",
    "state=>[(!out or (in1 and !in2) or (!in1 and in2)) and (((!in1 or in2) and (in1 or !in2)) or out)]\n",
    "state=>[(!out or (in1 and !in2) or (!in1 and in2)) and (!in1 or in2 or out) and (in1 or !in2 or out)]\n",
    "state=>[(((!out or in1) and (!out or !in2)) or (!in1 and in2)) and (!in1 or in2 or out) and (in1 or !in2 or out)]\n",
    "state=>[(((!out or in1 or (!in1 and in2)) and (!out or !in2 or (!in1 and in2)))) and (!in1 or in2 or out) and (in1 or !in2 or out)]\n",
    "state=>[(((!out or in1 or !in1) and (!out or in1 or in2)) and (!out or !in2 or !in1) and (!out or !in2 or in2)) and (!in1 or in2 or out) and (in1 or !in2 or out)]\n",
    "state=>[(!out or in1 or in2) and (!out or !in2 or !in1) and (!in1 or in2 or out) and (in1 or !in2 or out)]\n",
    "\n",
    "state->[(!out or in1 or in2) and (!out or !in2 or !in1) and (!in1 or in2 or out) and (in1 or !in2 or out)]\n",
    "!state or [(!out or in1 or in2) and (!out or !in2 or !in1) and (!in1 or in2 or out) and (in1 or !in2 or out)]\n",
    "(!state or !out or in1 or in2) and (!state or !out or !in2 or !in1) and (!state or !in1 or in2 or out) and (!state or in1 or !in2 or out)\n",
    "and\n",
    "[(!out or in1 or in2) and (!out or !in2 or !in1) and (!in1 or in2 or out) and (in1 or !in2 or out)]->state\n",
    "![(!out or in1 or in2) and (!out or !in2 or !in1) and (!in1 or in2 or out) and (in1 or !in2 or out)] or state\n",
    "[!(!out or in1 or in2) or !(!out or !in2 or !in1) or !(!in1 or in2 or out) or !(in1 or !in2 or out)] or state\n",
    "[(out and !in1 and !in2) or (out and in2 and in1) or (in1 and !in2 and !out) or (!in1 and in2 and !out)] or state\n",
    "(out and !in1 and !in2) or (out and in2 and in1) or (in1 and !in2 and !out) or (!in1 and in2 and !out) or state\n",
    "\"\"\""
   ]
  },
  {
   "cell_type": "code",
   "execution_count": 7,
   "metadata": {
    "deletable": false,
    "editable": false,
    "nbgrader": {
     "cell_type": "code",
     "checksum": "d2a3acdc273f60939a2402b7a96ad7a1",
     "grade": true,
     "grade_id": "add_XorVariable",
     "locked": true,
     "points": 10,
     "schema_version": 3,
     "solution": false
    }
   },
   "outputs": [
    {
     "data": {
      "text/html": [
       "<div class=\"alert alert-success\">\n",
       "        <strong>Test passed!!</strong>\n",
       "        </div>"
      ]
     },
     "metadata": {},
     "output_type": "display_data"
    }
   ],
   "source": [
    "test_add_XOrVariable(add_XOrVariable)"
   ]
  },
  {
   "cell_type": "markdown",
   "metadata": {},
   "source": [
    "Now we're ready to model the Boolean polycell example from class. In this model, XOR gates are 3% likely to fail, and AND gates are 2% likely to fail. All components are assumed to fail independently. Feel free to play with the failure probabilities to see how the solution changes. (Note that because of the formulation, probabilities of zero will fail.)"
   ]
  },
  {
   "cell_type": "markdown",
   "metadata": {},
   "source": [
    "<img src='Polycell.PNG'/>"
   ]
  },
  {
   "cell_type": "code",
   "execution_count": 8,
   "metadata": {},
   "outputs": [
    {
     "name": "stdout",
     "output_type": "stream",
     "text": [
      "Solution found!!\n",
      "A1 = 1 \n",
      "A2 = 1 \n",
      "A3 = 1 \n",
      "X1 = 0 \n",
      "X2 = 1 \n",
      "Probability of solution = 0.027\n"
     ]
    }
   ],
   "source": [
    "A = Variable('A')\n",
    "B = Variable('B')\n",
    "C = Variable('C')\n",
    "D = Variable('D')\n",
    "E = Variable('E')\n",
    "X = Variable('X')\n",
    "Y = Variable('Y')\n",
    "Z = Variable('Z')\n",
    "F = Variable('F')\n",
    "G = Variable('G')\n",
    "\n",
    "# Components\n",
    "A1 = AndVariable('A1')\n",
    "A2 = AndVariable('A2')\n",
    "A3 = AndVariable('A3')\n",
    "X1 = XOrVariable('X1')\n",
    "X2 = XOrVariable('X2')\n",
    "\n",
    "model = Model()\n",
    "\n",
    "# Component constraints\n",
    "model = add_AndVariable(model,A1,A,C,X)\n",
    "model = add_AndVariable(model,A2,B,D,Y)\n",
    "model = add_AndVariable(model,A3,C,E,Z)\n",
    "model = add_XOrVariable(model,X1,X,Y,F)\n",
    "model = add_XOrVariable(model,X2,Y,Z,G)\n",
    "# Maximize probability objective\n",
    "(model,obj) = add_diagnosis_objective(model,AND_fail=0.02,XOR_fail=0.03)\n",
    "\n",
    "# Problem setup\n",
    "model += (A == 1, B == 1, C == 1, D == 0, E == 1, F == 0, G == 1)\n",
    "\n",
    "\n",
    "solver = model.load('SCIP')\n",
    "solver.solve()\n",
    "\n",
    "if solver.is_sat():\n",
    "    # A solution has been found\n",
    "    print(\"Solution found!!\")\n",
    "    for v in model.variables:\n",
    "        if type(v).__name__ in ['AndVariable','XOrVariable']:\n",
    "            print(\"{} = {} \".format(v.name(), v.get_value()))\n",
    "    print(\"Probability of solution = {0:.3f}\".format(exp(obj.get_value())))\n",
    "else:\n",
    "    # No solution exists\n",
    "    print(\"No solution found.\")"
   ]
  },
  {
   "cell_type": "markdown",
   "metadata": {},
   "source": [
    "## Part 2: Generating Kernel Diagnoses from Conflicts  <a name=\"problem2\"></a>\n",
    "\n",
    "Typically, conflicts are extracted over the course of search. For now, let's assume we've been given a conflict, which will take the form of a set of two-element tuples. The first element of each tuple is the name of the decision variable for a component, and the second will be an assignment. As in part 1, we will use `1` to indicate a functional state, and `0` to indicate an unknown state. \n",
    "\n",
    "For example, we write the conflict {A1=G,A2=G,X1=G} as:\n",
    "\n",
    "```python\n",
    "set([('A1',1),('A2',1),('X1',1)])\n",
    "```\n",
    "\n",
    "### Problem 3 (10 points)\n",
    "\n",
    "How, conceptually, might we verify that a given set of tuples is a conflict?"
   ]
  },
  {
   "cell_type": "markdown",
   "metadata": {},
   "source": [
    "<div class=\"alert alert-info\">\n",
    "Answer the question in the space below.\n",
    "</div>"
   ]
  },
  {
   "cell_type": "raw",
   "metadata": {
    "deletable": false,
    "nbgrader": {
     "cell_type": "markdown",
     "checksum": "0054a3c792cc961f21bb152c8d4a335f",
     "grade": true,
     "grade_id": "conflict",
     "locked": true,
     "points": 10,
     "schema_version": 3,
     "solution": true
    },
    "tags": []
   },
   "source": [
    "Check if the assignment value is 0; Run an input to the component many times and see if its output is an error any of the times"
   ]
  },
  {
   "cell_type": "markdown",
   "metadata": {},
   "source": [
    "In a similar way, we will store each kernel diagnosis as a set, meaning that any assignment that is a superset of the kernel diagnosis satisfies all conflicts found so far. For example, a kernel diagnosis\n",
    "\n",
    "```python\n",
    "set([('A2',0),('X2',0)])\n",
    "```\n",
    "\n",
    "encodes that {A2=U,X2=U} solves all conflicts.\n",
    "\n",
    "We will store all the kernel diagnoses as a list of sets, where each set is an individual kernel diagnosis.\n",
    "\n",
    "### Problem 4 (40 points)\n",
    "Implement the function `update_kernel_diagnoses` which updates the kernel diagnoses when a new conflict has been discovered. It takes as input:\n",
    "\n",
    "* `kernel_diagnoses`: A list of sets representing the currently held kernel diagnoses.\n",
    "* `conflict`: A set representing a conflict.\n",
    "\n",
    "It outputs an updated set of kernel diagnoses that satisfy all conflicts. Remember you must handle the case where `kernel_diagnoses` is an empty list (no conflicts have yet been discovered).\n",
    "\n",
    "You will receive no credit if you use existing set covering functions.\n",
    "\n",
    "**Hint:** When we use sets the element ordering doesn't matter, so we can test equality between sets with `s1 == s2`. Add elements with `s1.add(el)`, and remove elements with `s1.remove(el)`. Test whether `s1` is a subset of `s2` with `s1.issubset(s2)`."
   ]
  },
  {
   "cell_type": "markdown",
   "metadata": {},
   "source": [
    "<div class=\"alert alert-info\">\n",
    "Implement `update_kernel_diagnoses`.\n",
    "</div>"
   ]
  },
  {
   "cell_type": "code",
   "execution_count": 79,
   "metadata": {
    "deletable": false,
    "nbgrader": {
     "cell_type": "code",
     "checksum": "2cf88a8d4853eda6cf1ed64fd37d6ebe",
     "grade": false,
     "grade_id": "update_kernel_diagnoses",
     "locked": false,
     "schema_version": 3,
     "solution": true
    },
    "tags": []
   },
   "outputs": [],
   "source": [
    "def update_kernel_diagnoses(kernel_diagnoses,conflict):\n",
    "    # YOUR CODE HERE\n",
    "    newlist = []\n",
    "    conflict2 = list(conflict)\n",
    "    toadd = []\n",
    "    \n",
    "    if len(kernel_diagnoses)==0:\n",
    "        for tup in conflict2:\n",
    "            iffixed = (tup[0],int(not(tup[1])))\n",
    "            iffixed = set([iffixed])\n",
    "            newlist.append(iffixed)\n",
    "    \n",
    "    wasitfound = dict()\n",
    "    for diag in kernel_diagnoses:\n",
    "        wasitfound[frozenset(diag)] = False\n",
    "    \n",
    "    for tup in conflict2:\n",
    "        iffixed = (tup[0],int(not(tup[1])))\n",
    "        iffixed = set([iffixed])\n",
    "        for diag in kernel_diagnoses:\n",
    "            if iffixed.issubset(diag) or iffixed == diag:\n",
    "                conflict.remove(tup)\n",
    "                newlist.append(iffixed)\n",
    "                wasitfound[frozenset(diag)] = True\n",
    "                break\n",
    "\n",
    "    for diag in kernel_diagnoses:\n",
    "        if not wasitfound[frozenset(diag)]:\n",
    "            toadd.append(diag)\n",
    "\n",
    "    for kernel in toadd:\n",
    "        for tup in conflict:\n",
    "            iffixed = (tup[0],int(not(tup[1])))\n",
    "            iffixed = set([iffixed])\n",
    "            tobe = kernel.union(iffixed)\n",
    "            newlist.append(tobe)\n",
    "\n",
    "    return newlist\n",
    "    "
   ]
  },
  {
   "cell_type": "code",
   "execution_count": 80,
   "metadata": {
    "deletable": false,
    "editable": false,
    "nbgrader": {
     "cell_type": "code",
     "checksum": "61daab16ab0ac67c2d518db769533312",
     "grade": true,
     "grade_id": "test_update_kernel_diagnoses",
     "locked": true,
     "points": 40,
     "schema_version": 3,
     "solution": false
    }
   },
   "outputs": [
    {
     "data": {
      "text/html": [
       "<div class=\"alert alert-success\">\n",
       "        <strong>Test passed!!</strong>\n",
       "        </div>"
      ]
     },
     "metadata": {},
     "output_type": "display_data"
    }
   ],
   "source": [
    "test_update_kernel_diagnoses(update_kernel_diagnoses)"
   ]
  },
  {
   "cell_type": "code",
   "execution_count": null,
   "metadata": {},
   "outputs": [],
   "source": [
    "kernel_diagnoses = [{('X1', 0)}, {('A2', 0)}, {('A1', 0)}]\n",
    "conflict = {('A1', 1), ('X2', 1), ('X1', 1), ('A3', 1)}\n",
    "kernel_diagnoses = update_kernel_diagnoses(kernel_diagnoses,conflict)\n",
    "# print(kernel_diagnoses)\n",
    "# ok_(len(kernel_diagnoses)==3,msg=\"Wrong length of kernel_diagnoses.\")\n",
    "# ok_(set([('A1',1)]) in kernel_diagnoses,msg=\"Missing element of kernel_diagnoses.\")\n",
    "# ok_(set([('A2',0)]) in kernel_diagnoses,msg=\"Missing element of kernel_diagnoses.\")\n",
    "# ok_(set([('X1',0)]) in kernel_diagnoses,msg=\"Missing element of kernel_diagnoses.\")"
   ]
  },
  {
   "cell_type": "markdown",
   "metadata": {},
   "source": [
    "### Problem 5 (10 points)\n",
    "Finally, use `update_kernel_diagnoses` to implement `all_kernel_diagnoses`. This will take as input a list of conflicts, and return a list of all kernel diagnoses."
   ]
  },
  {
   "cell_type": "markdown",
   "metadata": {},
   "source": [
    "<div class=\"alert alert-info\">\n",
    "Implement `all_kernel_diagnoses.`\n",
    "</div>"
   ]
  },
  {
   "cell_type": "code",
   "execution_count": 81,
   "metadata": {
    "deletable": false,
    "nbgrader": {
     "cell_type": "code",
     "checksum": "e6f685f81bd178ecbda7da4c9f39edd1",
     "grade": false,
     "grade_id": "all_kernel_diagnoses",
     "locked": false,
     "schema_version": 3,
     "solution": true
    },
    "tags": []
   },
   "outputs": [],
   "source": [
    "def all_kernel_diagnoses(conflicts):\n",
    "    # YOUR CODE HERE\n",
    "    kernel_diagnoses = []\n",
    "    for conflict in conflicts:\n",
    "        kernel_diagnoses = update_kernel_diagnoses(kernel_diagnoses,conflict)\n",
    "    return kernel_diagnoses\n",
    "    "
   ]
  },
  {
   "cell_type": "code",
   "execution_count": 82,
   "metadata": {
    "deletable": false,
    "editable": false,
    "nbgrader": {
     "cell_type": "code",
     "checksum": "35ee6d2c834a6015bca70a5ce8054d55",
     "grade": true,
     "grade_id": "test_all_kernel_diagnoses",
     "locked": true,
     "points": 10,
     "schema_version": 3,
     "solution": false
    }
   },
   "outputs": [
    {
     "data": {
      "text/html": [
       "<div class=\"alert alert-success\">\n",
       "        <strong>Test passed!!</strong>\n",
       "        </div>"
      ]
     },
     "metadata": {},
     "output_type": "display_data"
    }
   ],
   "source": [
    "test_all_kernel_diagnoses(all_kernel_diagnoses)"
   ]
  },
  {
   "cell_type": "code",
   "execution_count": null,
   "metadata": {},
   "outputs": [],
   "source": []
  }
 ],
 "metadata": {
  "anaconda-cloud": {},
  "kernelspec": {
   "display_name": "Python 3 (ipykernel)",
   "language": "python",
   "name": "python3"
  },
  "language_info": {
   "codemirror_mode": {
    "name": "ipython",
    "version": 3
   },
   "file_extension": ".py",
   "mimetype": "text/x-python",
   "name": "python",
   "nbconvert_exporter": "python",
   "pygments_lexer": "ipython3",
   "version": "3.10.6"
  },
  "toc-autonumbering": false,
  "toc-showcode": false,
  "toc-showmarkdowntxt": false
 },
 "nbformat": 4,
 "nbformat_minor": 4
}
