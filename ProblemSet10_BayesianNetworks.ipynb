{
 "cells": [
  {
   "cell_type": "markdown",
   "metadata": {},
   "source": [
    "# Problem Set 7: Bayesian Networks (70 points)\n",
    "## Due Wednesday, November 1st, 11:59 p.m.\n",
    "\n",
    "### Bayesian Networks (40 points)\n",
    "\n",
    "1. [Joint Probability Distribution (10 points)](#joint-probability-dist)\n",
    "2. [Complexity of Inference (30 points)](#complexity)\n",
    "    1. [wrt x6 (15 points)](#x6)\n",
    "    2. [wrt x4 (15 points)](#x4)\n",
    "\n",
    "### More bayesian Networks (30 points)\n",
    "\n",
    "1. [Independence (10 points)](#independ)\n",
    "2. [Conditional probabilities (10 points)](#conditional-probs)\n",
    "3. [Computing probability given a network (10 points)](#compute-bayesian)"
   ]
  },
  {
   "cell_type": "markdown",
   "metadata": {},
   "source": [
    "## <a name=\"contributors\"></a> Credit for Contributors\n",
    "\n",
    "List the various students, lecture notes, or online resouces that helped you complete this problem set:\n",
    "\n",
    "Ex: I worked with Bob on the cat activity planning problem.\n",
    "\n",
    "<div class=\"alert alert-info\">\n",
    "Write your answer in the cell below this one.\n",
    "</div>"
   ]
  },
  {
   "cell_type": "markdown",
   "metadata": {},
   "source": [
    "L12_16_410-13_F23_Bayes_Nets_1_Exact_Inference.pdf"
   ]
  },
  {
   "cell_type": "markdown",
   "metadata": {},
   "source": [
    "Make sure you load the dependencies below by highlighting the cell below and pressing Shift + Enter."
   ]
  },
  {
   "cell_type": "markdown",
   "metadata": {},
   "source": [
    "## Bayesian Networks (40 points) \n",
    "\n",
    "Consider the following bayes net for the following questions.\n",
    "<img src=\"bayes_net.png\" style=\"width:40%;\"/>"
   ]
  },
  {
   "cell_type": "markdown",
   "metadata": {},
   "source": [
    "### Joint Probability Distribution (10 points) <a href=\"joint-probability-dist\"/>\n",
    "\n",
    "Write out an expression for the joint probability distribution of the variables. "
   ]
  },
  {
   "cell_type": "markdown",
   "metadata": {
    "deletable": false,
    "nbgrader": {
     "cell_type": "markdown",
     "checksum": "f57242054a7e41a2158ff5ac0a7057a1",
     "grade": true,
     "grade_id": "cell-2f0f02cc6c5593bf",
     "locked": false,
     "points": 10,
     "schema_version": 3,
     "solution": true,
     "task": false
    },
    "tags": []
   },
   "source": [
    "P(x1,x2,x3,x4,x5,x6)=P(x4|x1,x2)P(x6|x5)P(x5|x2,x3)P(x2|x1)P(x3|x1)P(x1)"
   ]
  },
  {
   "cell_type": "markdown",
   "metadata": {},
   "source": [
    "### Complexity of Inference (30 points) <a href=\"complexity\"/>\n",
    "\n",
    "Assume that each variable is binary, meaning that it can take two different values. You need to comment on the complexity of inference (that is, the size of the tables that you will need to store) to compute the **marginal probability distribution of x6** and **marginal probability distribution of x4** from the conditional probabilities. "
   ]
  },
  {
   "cell_type": "markdown",
   "metadata": {},
   "source": [
    "#### Marginal probability distribution of x6 and complexity (15 points)"
   ]
  },
  {
   "cell_type": "markdown",
   "metadata": {
    "deletable": false,
    "nbgrader": {
     "cell_type": "markdown",
     "checksum": "5901a33894868d080c6cf583a37a77a3",
     "grade": true,
     "grade_id": "cell-d3caaaf4a3fb1211",
     "locked": false,
     "points": 15,
     "schema_version": 3,
     "solution": true,
     "task": false
    },
    "tags": []
   },
   "source": [
    "<img src=\"q1.jpg\" style=\"width:40%;\"/>\n",
    "three tables of size 4, one table of size 2, two tables of size 8"
   ]
  },
  {
   "cell_type": "markdown",
   "metadata": {},
   "source": [
    "#### Marginal probability distribution of x4 and complexity (15 points)"
   ]
  },
  {
   "cell_type": "markdown",
   "metadata": {
    "deletable": false,
    "nbgrader": {
     "cell_type": "markdown",
     "checksum": "38c2f749c0a17ebbe84392421137ab92",
     "grade": true,
     "grade_id": "cell-0f8c1f292990fcec",
     "locked": false,
     "points": 15,
     "schema_version": 3,
     "solution": true,
     "task": false
    },
    "tags": []
   },
   "source": [
    "<img src=\"q2.jpg\" style=\"width:40%;\"/>\n",
    "three tables of size 4, one table of size 2, two tables of size 8"
   ]
  },
  {
   "cell_type": "markdown",
   "metadata": {},
   "source": [
    "## More bayesian Networks (30 points) \n",
    "\n",
    "To safeguard your house, you recently installed two different alarm systems by\n",
    "two different reputable manufacturers that use completely different sensors for\n",
    "their alarm systems.\n",
    "\n",
    "<img src=\"bayesian_burglary.png\" style=\"width:60%;\"/>"
   ]
  },
  {
   "cell_type": "markdown",
   "metadata": {},
   "source": [
    "#### Part 1 (10 points) <a href=\"independ\"/>\n",
    "\n",
    "**a) Which one of the two Bayesian networks given below makes independence\n",
    "assumptions that are not true? Explain all of your reasoning. Alarm1 means\n",
    "that the first alarm system rings, Alarm2 means that the second alarm system\n",
    "rings, and Burglary means that a burglary is in progress** "
   ]
  },
  {
   "cell_type": "markdown",
   "metadata": {
    "deletable": false,
    "nbgrader": {
     "cell_type": "markdown",
     "checksum": "cb4f871b6cfe336b15fc4c7f19b90879",
     "grade": true,
     "grade_id": "cell-35febbde7d58a195",
     "locked": false,
     "points": 10,
     "schema_version": 3,
     "solution": true,
     "task": false
    },
    "tags": []
   },
   "source": [
    "2), the assumption is that if either alarm is on there is a chance a burglary is happening, not that if a buglary is happening both, either, or neither alarm would go off at some probability - i.e. the dependant variables are the alarm not the burglary"
   ]
  },
  {
   "cell_type": "markdown",
   "metadata": {},
   "source": [
    "#### Part 2 (10 points) <a href=\"conditional-probs\"/>\n",
    "\n",
    "**b) Consider the first Bayesian network. How many probabilities need to be\n",
    "specified for its conditional probability tables? Which ones?**"
   ]
  },
  {
   "cell_type": "markdown",
   "metadata": {
    "deletable": false,
    "nbgrader": {
     "cell_type": "markdown",
     "checksum": "674c8719f1bc61180aca54eca9af36b2",
     "grade": true,
     "grade_id": "cell-7381380133249f77",
     "locked": false,
     "points": 10,
     "schema_version": 3,
     "solution": true,
     "task": false
    },
    "tags": []
   },
   "source": [
    "two: P(A1|B),P(A2|B)"
   ]
  },
  {
   "cell_type": "markdown",
   "metadata": {},
   "source": [
    "#### Part 3 (10 points) <a href=\"compute-bayesian\"/>\n",
    "\n",
    "**c) Consider the second Bayesian network. Assume that:**\n",
    "\n",
    "P(Alarm1) = 0.1\n",
    "\n",
    "P(Alarm2) = 0.2\n",
    "\n",
    "P(Burglary | Alarm1, Alarm2) = 0.8\n",
    "\n",
    "P(Burglary | Alarm1, ¬ Alarm2) = 0.7\n",
    "\n",
    "P(Burglary | ¬ Alarm1, Alarm2) = 0.6\n",
    "\n",
    "P(Burglary | ¬ Alarm1, ¬ Alarm2) = 0.5\n",
    "\n",
    "Calculate P(Alarm2 | Burglary, Alarm1). Show all of your reasoning."
   ]
  },
  {
   "cell_type": "markdown",
   "metadata": {
    "deletable": false,
    "nbgrader": {
     "cell_type": "markdown",
     "checksum": "f809269aa8be4380b9f6a5dcab4ae27b",
     "grade": true,
     "grade_id": "cell-81f2f4babba0917d",
     "locked": false,
     "points": 10,
     "schema_version": 3,
     "solution": true,
     "task": false
    },
    "tags": []
   },
   "source": [
    "0.1067\n",
    "<img src=\"probs.jpg\" style=\"width:40%;\"/>"
   ]
  }
 ],
 "metadata": {
  "kernelspec": {
   "display_name": "Python 3 (ipykernel)",
   "language": "python",
   "name": "python3"
  },
  "language_info": {
   "codemirror_mode": {
    "name": "ipython",
    "version": 3
   },
   "file_extension": ".py",
   "mimetype": "text/x-python",
   "name": "python",
   "nbconvert_exporter": "python",
   "pygments_lexer": "ipython3",
   "version": "3.10.6"
  }
 },
 "nbformat": 4,
 "nbformat_minor": 4
}
