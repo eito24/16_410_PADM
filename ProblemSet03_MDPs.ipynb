{
 "cells": [
  {
   "cell_type": "markdown",
   "metadata": {},
   "source": [
    "### Problem Set 03: MDPs and Activity Planning\n",
    "\n",
    "In this problem set you will implement value iteration in a non-deterministic MDP, and work through some activity planning problems.\n",
    "\n",
    "\n",
    "0. [Credit for Contributors (required)](#contributors)\n",
    "\n",
    "1. [Non-deterministic MDPs](#problem1)\n",
    "    1. [Value Iteration (25 points)](#v_iteration)\n",
    "    2. [Extract the Policy from V* (15 points)](#v_to_policy)\n",
    "    3. [Policy Observations (20 points)](#policy_observations)\n",
    "2. [Activity Planning](#problem2)\n",
    "    1. [Defining Predicates (5 points)](#predicates)\n",
    "    2. [Problem Formulation (5 points)](#problem_form)\n",
    "    3. [Relaxed Plan Graph and FF Heuristic (20 points)](#relaxed)\n",
    "    \n",
    "**90 points** total for Problem Set 3"
   ]
  },
  {
   "cell_type": "markdown",
   "metadata": {},
   "source": [
    "## <a name=\"contributors\"></a> Credit for Contributors\n",
    "\n",
    "List the various students, lecture notes, or online resouces that helped you complete this problem set:\n",
    "\n",
    "Ex: I worked with Bob on the cat activity planning problem.\n",
    "\n",
    "<div class=\"alert alert-info\">\n",
    "Write your answer in the cell below this one.\n",
    "</div>"
   ]
  },
  {
   "cell_type": "markdown",
   "metadata": {},
   "source": [
    "AIMA Fig 17.6\n",
    "6.3900 Spring 2023 HW 10 (I took the class that semester, only looked at my own past work and class notes)"
   ]
  },
  {
   "cell_type": "code",
   "execution_count": 2,
   "metadata": {},
   "outputs": [],
   "source": [
    "# Useful imports\n",
    "from __future__ import division\n",
    "\n",
    "%matplotlib inline\n",
    "import numpy as np\n",
    "import matplotlib as mpl\n",
    "import matplotlib.pyplot as plt\n",
    "import copy\n",
    "from nose.tools import ok_, assert_equal, assert_almost_equal\n",
    "from grid import MDPGrid, generate_mdp_plot\n",
    "from mdp_utils import MDP, build_mdp"
   ]
  },
  {
   "cell_type": "markdown",
   "metadata": {},
   "source": [
    "## <a name=\"problem1\"></a> Problem 1: Non-deterministic MDPs (60 points)\n",
    "\n",
    "In this problem you will implement value iteration in a non-deterministic MDP grid world in order to compute the optimal policy. You will then plot the results and discuss your observations for different parameters of the MDP model.\n",
    "\n",
    "We are giving you a simple MDP class that you can use for this problem. This class is defined in the `mdp_utils.py` file. You should open this file now to look at the class definition: especially at the properties of MDP (S, A, T, R, $\\gamma$).\n",
    "\n",
    "The non-deterministic MDP model that we'll use in this problem is the same one described in chapter 17.1 of the AIMA book.\n",
    "\n",
    "Basically, the robot is in a grid world and can perform four actions at any time: `up`, `down`, `right` and `left`. However, because it's not a deterministic world, the outcome of these actions is not perfect. After executing an action, the robot will move in its intended direction with probability `p`. However, with probability `1-p` it will move at right angles to the intended direction. However, note that if the outcome of the action makes the robot bump into the walls of the world, the robot will bounce back and stay in the same state. For example, from the state `(1,1)`, the action `up` moves the agent to `(1,2)` with probability 0.8, but with probability 0.1, it moves right to `(2,1)`, and with probability 0.1, it moves left, bumps into the wall, and stays in `(1,1)`.\n",
    "\n",
    "The world is an `n x n` grid. There is a terminal goal cell. The robot receives reward `goal_reward` when arriving to the goal cell from any other neighbor cell. Similarly, there are obstacle cells. The robot receives (negative) reward `obstacle_reward` when arriving to these cells. Both the goal and the obstacle cells are terminal: the robot can't leave these cells once it lands on them.\n",
    "\n",
    "The goal is to find the optimal policy for the robot.\n",
    "\n",
    "Luckily (for you), we are providing the function build_mdp that generates the MDP for this grid world.\n",
    "\n",
    "```\n",
    "def build_mdp(n, p, obstacles, goal, gamma, goal_reward=100, obstacle_reward=-1000)\n",
    "```\n",
    "\n",
    "\n",
    "\n"
   ]
  },
  {
   "cell_type": "markdown",
   "metadata": {},
   "source": [
    "The following example generates an MDP for the following `3x3` grid with goal state `(2,2)` (green circle) and obstacle in `(0,1)` (black circle)."
   ]
  },
  {
   "cell_type": "code",
   "execution_count": 3,
   "metadata": {},
   "outputs": [
    {
     "data": {
      "image/png": "[encoded data removed]",
      "text/plain": [
       "<Figure size 800x800 with 1 Axes>"
      ]
     },
     "metadata": {},
     "output_type": "display_data"
    }
   ],
   "source": [
    "n = 3\n",
    "goal = (2,2)\n",
    "obstacles = [(0,1)]\n",
    "\n",
    "# Build MDP\n",
    "mdp = build_mdp(n, 0.8, obstacles, goal, 0.8)\n",
    "\n",
    "# Create grid for plotting\n",
    "g = MDPGrid(n,n)\n",
    "axes = g.draw()\n",
    "# Draw goal and obstacle cells\n",
    "g.draw_cell_circle(axes, goal, color='g')\n",
    "for ob in obstacles:\n",
    "    g.draw_cell_circle(axes, ob, color='k')\n",
    "    "
   ]
  },
  {
   "cell_type": "markdown",
   "metadata": {},
   "source": [
    "The print command prints the information about the MDP that we just generated (MDP models get large pretty fast)."
   ]
  },
  {
   "cell_type": "code",
   "execution_count": 4,
   "metadata": {},
   "outputs": [
    {
     "name": "stdout",
     "output_type": "stream",
     "text": [
      "MDP: \n",
      "  States (9): '(0, 1)', '(1, 2)', '(2, 1)', '(0, 0)', '(1, 1)', '(2, 0)', '(0, 2)', '(2, 2)', '(1, 0)'\n",
      "  Actions (4): ['up', 'down', 'right', 'left']\n",
      "  Transitions:\n",
      "   + State '(0, 0)'\n",
      "     -action 'up'\n",
      "       to '(0, 1)' with p=0.80\n",
      "       to '(1, 0)' with p=0.10\n",
      "       to '(0, 0)' with p=0.10\n",
      "     -action 'down'\n",
      "       to '(0, 0)' with p=0.90\n",
      "       to '(1, 0)' with p=0.10\n",
      "     -action 'right'\n",
      "       to '(1, 0)' with p=0.80\n",
      "       to '(0, 1)' with p=0.10\n",
      "       to '(0, 0)' with p=0.10\n",
      "     -action 'left'\n",
      "       to '(0, 0)' with p=0.90\n",
      "       to '(0, 1)' with p=0.10\n",
      "   + State '(0, 1)'\n",
      "     -action 'up'\n",
      "       to '(0, 1)' with p=1.00\n",
      "     -action 'down'\n",
      "       to '(0, 1)' with p=1.00\n",
      "     -action 'right'\n",
      "       to '(0, 1)' with p=1.00\n",
      "     -action 'left'\n",
      "       to '(0, 1)' with p=1.00\n",
      "   + State '(0, 2)'\n",
      "     -action 'up'\n",
      "       to '(0, 2)' with p=0.90\n",
      "       to '(1, 2)' with p=0.10\n",
      "     -action 'down'\n",
      "       to '(0, 1)' with p=0.80\n",
      "       to '(1, 2)' with p=0.10\n",
      "       to '(0, 2)' with p=0.10\n",
      "     -action 'right'\n",
      "       to '(1, 2)' with p=0.80\n",
      "       to '(0, 2)' with p=0.10\n",
      "       to '(0, 1)' with p=0.10\n",
      "     -action 'left'\n",
      "       to '(0, 2)' with p=0.90\n",
      "       to '(0, 1)' with p=0.10\n",
      "   + State '(1, 0)'\n",
      "     -action 'up'\n",
      "       to '(1, 1)' with p=0.80\n",
      "       to '(2, 0)' with p=0.10\n",
      "       to '(0, 0)' with p=0.10\n",
      "     -action 'down'\n",
      "       to '(1, 0)' with p=0.80\n",
      "       to '(2, 0)' with p=0.10\n",
      "       to '(0, 0)' with p=0.10\n",
      "     -action 'right'\n",
      "       to '(2, 0)' with p=0.80\n",
      "       to '(1, 1)' with p=0.10\n",
      "       to '(1, 0)' with p=0.10\n",
      "     -action 'left'\n",
      "       to '(0, 0)' with p=0.80\n",
      "       to '(1, 1)' with p=0.10\n",
      "       to '(1, 0)' with p=0.10\n",
      "   + State '(1, 1)'\n",
      "     -action 'up'\n",
      "       to '(1, 2)' with p=0.80\n",
      "       to '(2, 1)' with p=0.10\n",
      "       to '(0, 1)' with p=0.10\n",
      "     -action 'down'\n",
      "       to '(1, 0)' with p=0.80\n",
      "       to '(2, 1)' with p=0.10\n",
      "       to '(0, 1)' with p=0.10\n",
      "     -action 'right'\n",
      "       to '(2, 1)' with p=0.80\n",
      "       to '(1, 2)' with p=0.10\n",
      "       to '(1, 0)' with p=0.10\n",
      "     -action 'left'\n",
      "       to '(0, 1)' with p=0.80\n",
      "       to '(1, 2)' with p=0.10\n",
      "       to '(1, 0)' with p=0.10\n",
      "   + State '(1, 2)'\n",
      "     -action 'up'\n",
      "       to '(1, 2)' with p=0.80\n",
      "       to '(2, 2)' with p=0.10\n",
      "       to '(0, 2)' with p=0.10\n",
      "     -action 'down'\n",
      "       to '(1, 1)' with p=0.80\n",
      "       to '(2, 2)' with p=0.10\n",
      "       to '(0, 2)' with p=0.10\n",
      "     -action 'right'\n",
      "       to '(2, 2)' with p=0.80\n",
      "       to '(1, 2)' with p=0.10\n",
      "       to '(1, 1)' with p=0.10\n",
      "     -action 'left'\n",
      "       to '(0, 2)' with p=0.80\n",
      "       to '(1, 2)' with p=0.10\n",
      "       to '(1, 1)' with p=0.10\n",
      "   + State '(2, 0)'\n",
      "     -action 'up'\n",
      "       to '(2, 1)' with p=0.80\n",
      "       to '(2, 0)' with p=0.10\n",
      "       to '(1, 0)' with p=0.10\n",
      "     -action 'down'\n",
      "       to '(2, 0)' with p=0.90\n",
      "       to '(1, 0)' with p=0.10\n",
      "     -action 'right'\n",
      "       to '(2, 0)' with p=0.90\n",
      "       to '(2, 1)' with p=0.10\n",
      "     -action 'left'\n",
      "       to '(1, 0)' with p=0.80\n",
      "       to '(2, 1)' with p=0.10\n",
      "       to '(2, 0)' with p=0.10\n",
      "   + State '(2, 1)'\n",
      "     -action 'up'\n",
      "       to '(2, 2)' with p=0.80\n",
      "       to '(2, 1)' with p=0.10\n",
      "       to '(1, 1)' with p=0.10\n",
      "     -action 'down'\n",
      "       to '(2, 0)' with p=0.80\n",
      "       to '(2, 1)' with p=0.10\n",
      "       to '(1, 1)' with p=0.10\n",
      "     -action 'right'\n",
      "       to '(2, 1)' with p=0.80\n",
      "       to '(2, 2)' with p=0.10\n",
      "       to '(2, 0)' with p=0.10\n",
      "     -action 'left'\n",
      "       to '(1, 1)' with p=0.80\n",
      "       to '(2, 2)' with p=0.10\n",
      "       to '(2, 0)' with p=0.10\n",
      "   + State '(2, 2)'\n",
      "     -action 'up'\n",
      "       to '(2, 2)' with p=1.00\n",
      "     -action 'down'\n",
      "       to '(2, 2)' with p=1.00\n",
      "     -action 'right'\n",
      "       to '(2, 2)' with p=1.00\n",
      "     -action 'left'\n",
      "       to '(2, 2)' with p=1.00\n",
      "  Rewards:\n",
      "    + from state '(0, 0)'\n",
      "      - with 'up' to state '(0, 1)', r=-1000.00\n",
      "      - with 'right' to state '(0, 1)', r=-1000.00\n",
      "      - with 'left' to state '(0, 1)', r=-1000.00\n",
      "    + from state '(0, 1)'\n",
      "    + from state '(0, 2)'\n",
      "      - with 'down' to state '(0, 1)', r=-1000.00\n",
      "      - with 'right' to state '(0, 1)', r=-1000.00\n",
      "      - with 'left' to state '(0, 1)', r=-1000.00\n",
      "    + from state '(1, 0)'\n",
      "    + from state '(1, 1)'\n",
      "      - with 'up' to state '(0, 1)', r=-1000.00\n",
      "      - with 'down' to state '(0, 1)', r=-1000.00\n",
      "      - with 'left' to state '(0, 1)', r=-1000.00\n",
      "    + from state '(1, 2)'\n",
      "      - with 'up' to state '(2, 2)', r=100.00\n",
      "      - with 'down' to state '(2, 2)', r=100.00\n",
      "      - with 'right' to state '(2, 2)', r=100.00\n",
      "    + from state '(2, 0)'\n",
      "    + from state '(2, 1)'\n",
      "      - with 'up' to state '(2, 2)', r=100.00\n",
      "      - with 'right' to state '(2, 2)', r=100.00\n",
      "      - with 'left' to state '(2, 2)', r=100.00\n",
      "    + from state '(2, 2)'\n"
     ]
    }
   ],
   "source": [
    "# Print info about MDP model that we just generated.\n",
    "mdp.print_mdp()"
   ]
  },
  {
   "cell_type": "markdown",
   "metadata": {},
   "source": [
    "### <a name=\"v_iteration\"></a> Implement Value Iteration (25 points)\n",
    "\n",
    "In this part of the problem you will implement **value iteration** for a given MDP.\n",
    "\n",
    "Your function should have the following signature:\n",
    "\n",
    "```python\n",
    "def value_iteration(mdp, epsilon=1e-3)\n",
    "```\n",
    "\n",
    "The function should take an MDP instance (like the generated by the `build_mdp` function) and a value for `epsilon` that you'll use to determine when to stop value iteration (as explained in the lecture notes).\n",
    "\n",
    "The function should return a Python dictionary with the optimal value for each state in the MDP. Your function should also print how many iterations it took to reach convergence for the given epsilon value.\n",
    "\n",
    "As an example of what your function should return, have a look at what a random Value function would look like."
   ]
  },
  {
   "cell_type": "code",
   "execution_count": 5,
   "metadata": {},
   "outputs": [
    {
     "name": "stdout",
     "output_type": "stream",
     "text": [
      "V_random is a valid Value function, although definitely not optimal (it's just random!)\n"
     ]
    },
    {
     "data": {
      "text/plain": [
       "{(0, 1): array([-1.1531026]),\n",
       " (1, 2): array([80.97320946]),\n",
       " (2, 1): array([-29.67196955]),\n",
       " (0, 0): array([37.02449087]),\n",
       " (1, 1): array([33.02754418]),\n",
       " (2, 0): array([-75.18684408]),\n",
       " (0, 2): array([54.16433538]),\n",
       " (2, 2): array([8.07251637]),\n",
       " (1, 0): array([-60.17638589])}"
      ]
     },
     "execution_count": 5,
     "metadata": {},
     "output_type": "execute_result"
    }
   ],
   "source": [
    "def random_V(mdp):    \n",
    "    states = mdp.S\n",
    "    V_random = dict()\n",
    "    minV, maxV = -100, 100\n",
    "    random_values = np.random.uniform(minV, maxV, [len(states), 1])\n",
    "    for i, s in enumerate(states):\n",
    "        V_random[s] = random_values[i]\n",
    "    return V_random\n",
    "print(\"V_random is a valid Value function, although definitely not optimal (it's just random!)\")\n",
    "mdp = build_mdp(n, 0.8, [], (1, 1), 0.8)\n",
    "V_random = random_V(mdp)\n",
    "V_random"
   ]
  },
  {
   "cell_type": "code",
   "execution_count": 6,
   "metadata": {},
   "outputs": [
    {
     "data": {
      "image/png": "[encoded data removed]",
      "text/plain": [
       "<Figure size 800x800 with 2 Axes>"
      ]
     },
     "metadata": {},
     "output_type": "display_data"
    }
   ],
   "source": [
    "# The previous random V can be plotted in the grid.\n",
    "n = 3\n",
    "# Create grid for plotting\n",
    "g = MDPGrid(n, n)\n",
    "axes = g.draw()\n",
    "# Plot V in the grid\n",
    "g.plot_V(axes, V_random, print_numbers = True)"
   ]
  },
  {
   "cell_type": "markdown",
   "metadata": {},
   "source": [
    "<div class=\"alert alert-info\">\n",
    "Implement function `value_iteration(mdp, epsilon=1e-3)` below.\n",
    "</div>\n",
    "\n",
    "<div class=\"alert alert-warning\">\n",
    "**Note**: Assume that if some some combination of `s`, `a` and `s_dest` is not found in the `reward` of the MDP (that is, you get an error when trying to access `mdp.R[s][a][s_dest]`, then the reward should be 0.\n",
    "</div>"
   ]
  },
  {
   "cell_type": "code",
   "execution_count": 93,
   "metadata": {
    "deletable": false,
    "nbgrader": {
     "cell_type": "code",
     "checksum": "1a9d3a44a32571373db47feba1b866de",
     "grade": false,
     "grade_id": "value_iteration_sol",
     "locked": false,
     "schema_version": 3,
     "solution": true
    }
   },
   "outputs": [],
   "source": [
    "# Write your code for value iteration in this cell\n",
    "\n",
    "# YOUR CODE HERE\n",
    "def value_iteration(mdp, epsilon=1e-3):\n",
    "    values = dict()\n",
    "    for s in mdp.S:\n",
    "       values[s] = 0\n",
    "    iters = 0\n",
    "    while True:\n",
    "        iters+=1\n",
    "        new_vals = values.copy()\n",
    "        maxdiff = 0\n",
    "        for s in mdp.S:\n",
    "            maxv = 0\n",
    "            for a in mdp.A:\n",
    "                rfora = 0\n",
    "                for sp in mdp.S:\n",
    "                    try:\n",
    "                        rfora += mdp.R[s][a][sp]+mdp.gamma*values[sp]*mdp.T[s][a][sp]\n",
    "                    except:\n",
    "                        pass\n",
    "                if rfora > maxv:\n",
    "                    maxv = rfora\n",
    "            new_vals[s] = maxv\n",
    "            if abs(values[s]-new_vals[s]) > maxdiff:\n",
    "                maxdiff = abs(values[s] - new_vals[s])\n",
    "        if maxdiff < epsilon:\n",
    "            print(\"number of iterations: \",iters)\n",
    "            return new_vals\n",
    "        values = new_vals"
   ]
  },
  {
   "cell_type": "code",
   "execution_count": 94,
   "metadata": {
    "deletable": false,
    "editable": false,
    "nbgrader": {
     "cell_type": "code",
     "checksum": "74af8f1b57d04bf75f1ad6bced60001a",
     "grade": true,
     "grade_id": "check_value_iteration",
     "locked": true,
     "points": 25,
     "schema_version": 3,
     "solution": false,
     "task": false
    },
    "tags": []
   },
   "outputs": [
    {
     "name": "stdout",
     "output_type": "stream",
     "text": [
      "number of iterations:  42\n",
      "V:\n",
      "\n"
     ]
    },
    {
     "data": {
      "text/plain": [
       "{(0, 1): 0,\n",
       " (1, 2): 207.21635350468995,\n",
       " (2, 1): 217.80026781239866,\n",
       " (0, 0): 9.4847231278406,\n",
       " (1, 1): 165.45420280815097,\n",
       " (2, 0): 148.87689452777576,\n",
       " (0, 2): 16.577308280375195,\n",
       " (2, 2): 0,\n",
       " (1, 0): 118.55903909800752}"
      ]
     },
     "execution_count": 94,
     "metadata": {},
     "output_type": "execute_result"
    },
    {
     "data": {
      "image/png": "[encoded data removed]",
      "text/plain": [
       "<Figure size 800x800 with 2 Axes>"
      ]
     },
     "metadata": {},
     "output_type": "display_data"
    }
   ],
   "source": [
    "# Test your code for value iteration with the example from before\n",
    "# Don't modify this cell (it may be overwritten)\n",
    "n = 3\n",
    "goal = (2, 2)\n",
    "obstacles = [(0, 1)]\n",
    "\n",
    "# Build MDP\n",
    "mdp = build_mdp(n, 0.8, obstacles, goal, 0.8)\n",
    "\n",
    "# Create grid for plotting\n",
    "g = MDPGrid(n, n)\n",
    "axes = g.draw()\n",
    "# Perform value iteration\n",
    "V = value_iteration(mdp, epsilon=1e-3)\n",
    "g.plot_V(axes, V, print_numbers=True)\n",
    "# Draw goal and obstacle cells\n",
    "g.draw_cell_circle(axes, goal, color='g')\n",
    "for ob in obstacles:\n",
    "    g.draw_cell_circle(axes, ob, color='k')\n",
    "print(\"V:\\n\")\n",
    "V\n"
   ]
  },
  {
   "cell_type": "markdown",
   "metadata": {},
   "source": [
    "### <a name=\"v_to_policy\"></a> Extract the policy from V* (15 points)\n",
    "\n",
    "Create function `extract_policy(mdp, V)` that extracts the optimal policy from V. The output of this function should be a Python dictionary mapping each state to the best action to take (e.g. `up`,`down`,`right`,`left`)\n",
    "\n",
    "The following shows a simple random policy that will give you an idea of the format that the `extract_policy` function should produce."
   ]
  },
  {
   "cell_type": "code",
   "execution_count": 40,
   "metadata": {},
   "outputs": [
    {
     "data": {
      "image/png": "[encoded data removed]",
      "text/plain": [
       "<Figure size 800x800 with 1 Axes>"
      ]
     },
     "metadata": {},
     "output_type": "display_data"
    }
   ],
   "source": [
    "def random_policy(mdp):\n",
    "    states = mdp.S\n",
    "    actions = mdp.A\n",
    "    Pi_random = dict()\n",
    "    random_values = np.random.randint(0, len(actions),[len(states), 1])\n",
    "    \n",
    "    for i, s in enumerate(states):\n",
    "        Pi_random[s] = actions[int(random_values[i])]\n",
    "        \n",
    "    return Pi_random\n",
    "\n",
    "# The previous random V can be plotted in the grid.\n",
    "n = 3\n",
    "mdp = build_mdp(n, 0.8, [], (1,1), 0.8)\n",
    "g = MDPGrid(n,n)\n",
    "axes = g.draw()\n",
    "\n",
    "Pi_random = random_policy(mdp)\n",
    "g.plot_policy(axes, Pi_random)"
   ]
  },
  {
   "cell_type": "markdown",
   "metadata": {},
   "source": [
    "<div class=\"alert alert-info\">\n",
    "Implement function `extract_policy(mdp, V)` below.\n",
    "</div>"
   ]
  },
  {
   "cell_type": "code",
   "execution_count": 90,
   "metadata": {
    "deletable": false,
    "nbgrader": {
     "cell_type": "code",
     "checksum": "5802f98ec44810bd006bd9b8148787ea",
     "grade": true,
     "grade_id": "extract_policy_code",
     "locked": false,
     "points": 15,
     "schema_version": 3,
     "solution": true
    }
   },
   "outputs": [],
   "source": [
    "# Write your code for the policy extraction in this cell\n",
    "\n",
    "def extract_policy(mdp, V):\n",
    "    # YOUR CODE HERE\n",
    "    policy = dict()\n",
    "    for s in mdp.S:\n",
    "        maxval = 0\n",
    "        bestact = None\n",
    "        for a in mdp.A:\n",
    "            sumval = 0\n",
    "            for sp in mdp.S:\n",
    "                try:\n",
    "                    sumval += mdp.R[s][a][sp]+mdp.gamma*V[sp]*mdp.T[s][a][sp]\n",
    "                except:\n",
    "                    pass\n",
    "            if sumval > maxval:\n",
    "                maxval = sumval\n",
    "                bestact = a\n",
    "        policy[s] = bestact\n",
    "        if policy[s] is None:\n",
    "            policy[s] = a\n",
    "    return policy\n"
   ]
  },
  {
   "cell_type": "markdown",
   "metadata": {},
   "source": [
    "Now we'll test both your optimal policy in the example we have been using. Execute but, don't modify, the following cell."
   ]
  },
  {
   "cell_type": "code",
   "execution_count": 95,
   "metadata": {
    "deletable": false,
    "editable": false,
    "nbgrader": {
     "cell_type": "code",
     "checksum": "76a7f5ea1ced0329e51e63426ed2b983",
     "grade": false,
     "grade_id": "check_extract_policy",
     "locked": true,
     "schema_version": 3,
     "solution": false
    }
   },
   "outputs": [
    {
     "name": "stdout",
     "output_type": "stream",
     "text": [
      "number of iterations:  42\n"
     ]
    },
    {
     "data": {
      "image/png": "[encoded data removed]",
      "text/plain": [
       "<Figure size 800x800 with 2 Axes>"
      ]
     },
     "metadata": {},
     "output_type": "display_data"
    }
   ],
   "source": [
    "# Test your code for value iteration with the example from before\n",
    "# Don't modify this cell (it may be overwritten)\n",
    "n = 3\n",
    "goal = (2,2)\n",
    "obstacles = [(0,1)]\n",
    "\n",
    "# Build MDP\n",
    "mdp = build_mdp(n, 0.8, obstacles, goal, 0.8)\n",
    "\n",
    "# Create grid for plotting\n",
    "g = MDPGrid(n, n)\n",
    "axes = g.draw()\n",
    "# Perform value iteration\n",
    "V = value_iteration(mdp, epsilon=1e-3)\n",
    "# Extract the policy\n",
    "Pi = extract_policy(mdp, V)\n",
    "\n",
    "g.plot_V(axes, V, print_numbers=False)\n",
    "g.plot_policy(axes, Pi)\n",
    "\n",
    "# Draw goal and obstacle cells\n",
    "g.draw_cell_circle(axes, goal, color='g')\n",
    "for ob in obstacles:\n",
    "    g.draw_cell_circle(axes, ob, color='k')"
   ]
  },
  {
   "cell_type": "markdown",
   "metadata": {},
   "source": [
    "### <a name=\"policy_observations\"></a> Observations (20 points)\n",
    "\n",
    "We'll now run your code on a larger grid with more obstacles.\n",
    "Execute the following code:\n"
   ]
  },
  {
   "cell_type": "code",
   "execution_count": 96,
   "metadata": {
    "deletable": false,
    "editable": false,
    "nbgrader": {
     "cell_type": "code",
     "checksum": "1cff22d6f2b9d41b908d3f37efa177f3",
     "grade": false,
     "grade_id": "complex_mdp_check",
     "locked": true,
     "schema_version": 3,
     "solution": false
    }
   },
   "outputs": [
    {
     "name": "stdout",
     "output_type": "stream",
     "text": [
      "number of iterations:  47\n"
     ]
    },
    {
     "data": {
      "image/png": "[encoded data removed]",
      "text/plain": [
       "<Figure size 800x800 with 2 Axes>"
      ]
     },
     "metadata": {},
     "output_type": "display_data"
    }
   ],
   "source": [
    "# Don't modify this code\n",
    "n = 10\n",
    "goal = (5,8)\n",
    "# goal = (4,2)\n",
    "obstacles = [(1,3), (9,0), (8,8)] + \\\n",
    "            [(4, 2), (4, 3), (4, 6)] + \\\n",
    "            [(6, 2), (6, 3), (6, 5), (6, 6)]\n",
    "mdp = build_mdp(n, p=0.8, obstacles=obstacles, goal=goal, gamma=0.8, goal_reward=100, obstacle_reward=-500)\n",
    "V = value_iteration(mdp)\n",
    "Pi = extract_policy(mdp, V)\n",
    "generate_mdp_plot(mdp, V, Pi, obstacles, goal)"
   ]
  },
  {
   "cell_type": "code",
   "execution_count": 101,
   "metadata": {},
   "outputs": [
    {
     "name": "stdout",
     "output_type": "stream",
     "text": [
      "number of iterations:  6\n"
     ]
    },
    {
     "data": {
      "image/png": "[encoded data removed]",
      "text/plain": [
       "<Figure size 800x800 with 2 Axes>"
      ]
     },
     "metadata": {},
     "output_type": "display_data"
    }
   ],
   "source": [
    "# Don't modify this code\n",
    "n = 10\n",
    "goal = (5,8)\n",
    "# goal = (4,2)\n",
    "obstacles = [(1,3), (9,0), (8,8)] + \\\n",
    "            [(4, 2), (4, 3), (4, 6)] + \\\n",
    "            [(6, 2), (6, 3), (6, 5), (6, 6)]\n",
    "mdp = build_mdp(n, p=0.8, obstacles=obstacles, goal=goal, gamma=0.1, goal_reward=100, obstacle_reward=-500)\n",
    "V = value_iteration(mdp)\n",
    "Pi = extract_policy(mdp, V)\n",
    "generate_mdp_plot(mdp, V, Pi, obstacles, goal)"
   ]
  },
  {
   "cell_type": "markdown",
   "metadata": {},
   "source": [
    "What can you see? Does this policy look optimal? Does it look like the robot is doing something strange? Why? (hint: remember the transition model that we are using in this example)\n",
    "\n",
    "<div class=\"alert alert-info\">\n",
    "**Discuss your results in the cell below**\n",
    "</div>\n"
   ]
  },
  {
   "cell_type": "markdown",
   "metadata": {
    "deletable": false,
    "nbgrader": {
     "cell_type": "markdown",
     "checksum": "871b6094e6e303a1821cee478494388a",
     "grade": true,
     "grade_id": "comment_mdp1",
     "locked": false,
     "points": 10,
     "schema_version": 3,
     "solution": true
    }
   },
   "source": [
    "I see a bunch of left arrows, which is very strange. The policy does not look optimal, but I think this is because the transition model is such that if one tries to go in a direction, the robot follows that only 80% of the time, and 90 degrees from the instructed to either side with even probability the rest of the time."
   ]
  },
  {
   "cell_type": "markdown",
   "metadata": {},
   "source": [
    "Try running the previous example with a couple variations of the values for `p`, `gamma` and the reward values.\n",
    "\n",
    "How do this values affect the policy that we get?\n",
    "(a brief qualitative answer is sufficient, no need for numerical analysis)\n",
    "\n",
    "\n",
    "<div class=\"alert alert-info\">\n",
    "**Please discuss below**\n",
    "</div>\n"
   ]
  },
  {
   "cell_type": "markdown",
   "metadata": {
    "deletable": false,
    "nbgrader": {
     "cell_type": "markdown",
     "checksum": "fe9688b4d268b984a5e4b491ab471318",
     "grade": true,
     "grade_id": "comment_mdp2",
     "locked": false,
     "points": 10,
     "schema_version": 3,
     "solution": true
    }
   },
   "source": [
    "With p=1, the bottom half of the grid opts to just go left. For a very low p, certain columns and rows seemed to favor up or down while the others favored right or left. With gamma=1, nearly the whole grid had comperable expected value of 100. With gamma=0.1, most of the grid except the four next to the goal had a lower expected value of around 50. The bottom half of the grid seemed to opt left, while the top half seemed to opt right."
   ]
  },
  {
   "cell_type": "markdown",
   "metadata": {
    "tags": []
   },
   "source": [
    "## <a name=\"problem2\"></a> Problem 2: Activity Planning\n",
    "\n",
    "In this problem, we will model planning an observation for a spacecraft in orbit around Mars. Many older spacecraft were not designed with concurrency in mind, and so they required attitude (orientation) changes to point different instruments towards the Martian surface, the Earth, or the Sun. \n",
    "\n",
    "<img src=maven.png style=\"width: 80%;\">\n",
    "\n",
    "\n",
    "In our model, the orbiter has a sensor, a communications radar, solar cells for charging a battery, and a data cache. \n",
    "\n",
    "At any point in time, the orbiter may be:\n",
    "\n",
    "- pointed at Mars (sensor pointed to surface for observations)\n",
    "- pointed at Earth (radar pointed to Earth for transmission)\n",
    "- pointed at the Sun (solar panels to Sun for charging)\n",
    "\n",
    "These options are assumed to be mutually exclusive. We model attitude changes as requiring no power.\n",
    "\n",
    "If the orbiter is pointed at the Sun, it may charge its battery to full. If the orbiter is pointed at Mars and has a full battery, it may make an observation. The observation empties the orbiter’s battery, but it gains data as a result. If the orbiter is pointed at Earth, has a full battery, and data in its cache, it may transmit data. Transmission of the data home empties the orbiter’s battery and the data cache. The objective of the mission is for the data to be sent back to Earth.\n",
    "\n",
    "We will model the orbiter’s available actions as the following:\n",
    "- Point at Earth\n",
    "- Point at Mars\n",
    "- Point at Sun\n",
    "- Charge\n",
    "- Observe\n",
    "- Transmit "
   ]
  },
  {
   "cell_type": "markdown",
   "metadata": {},
   "source": [
    "### <a name=\"predicates\"></a>Defining Predicates\n",
    "\n",
    "Define the predicates for the problem, and define the preconditions and effects for each of the actions above. An example is given below. You may use the predicates in the example, but you are not obligated to.\n",
    "\n",
    "**Observe:**\n",
    "\n",
    "&nbsp;&nbsp;&nbsp;*Preconditions:* pointed-at-mars, battery-full\n",
    "\n",
    "&nbsp;&nbsp;&nbsp;*Effects:* data-onboard, not battery-full \n",
    "\n",
    "\n",
    "Predicates represent statements that are always true or false, so something like (pointed == Mars), which is more like a variable that could have the values {Mars, Earth, Sun}, is invalid. \n",
    "\n",
    "\n",
    "1. Define your predicates to model the problem.\n",
    "\n",
    "2. Write the preconditions and effects for each of the 6 actions.\n",
    "\n",
    "3. Do your actions (preconditions and effects) prevent you from pointing at two places at the same time? You may assume the start state is only pointed at a single location.\n",
    "\n",
    "4. The mission ends when the data has been transmitted. Can your predicates be used to indicate that the goal has been achieved?\n",
    "\n",
    "You may upload handwritten work for any of the following answers, with the same instructions from Problem Set 2. You can use the html tag provided in the cell below by changing the name of the image file.\n",
    "\n",
    "\n",
    "<div class=\"alert alert-info\">\n",
    "Write or upload your answer in the cell below this one.\n",
    "</div>"
   ]
  },
  {
   "cell_type": "markdown",
   "metadata": {},
   "source": [
    "1.\n",
    "Predicates: pointed-at-earth, pointed-at-mars, pointed-at-sun, battery-full, data-onboard, data-sent\n",
    "2.\n",
    "preconditions; effects n\\\n",
    "point at Earth: - ; pointed-at-earth n\\\n",
    "point at Mars: - ; pointed-at-mars n\\\n",
    "point at Sun: - ; pointed-at-sun n\\\n",
    "charge: pointed-at-sun ; battery-full n\\\n",
    "observe: pointed-at-mars, battery-full; ¬battery-full, data-onboard n\\\n",
    "transmit: pointed-at-earth, battery-full, data-onboard; ¬battery-full, ¬data-onboard, data-sent n\\\n",
    "*unlisted predicate T/F implies that the predicate can be true or false in the preconditions or effects n\\\n",
    "3.\n",
    "Yes\n",
    "4.\n",
    "Yes"
   ]
  },
  {
   "cell_type": "markdown",
   "metadata": {},
   "source": [
    "### <a name=\"problem_form\"></a>Problem Formulation\n",
    "\n",
    "Assume the orbiter starts pointed at Mars, with batteries empty and with no sensor data onboard. Write this initial state and the final state in terms of your predicates. Recall that an omitted predicate in the initial state implies that the predicate is false.\n",
    "\n",
    "\n",
    "1. Write the intial and goal states (in terms of your predicates that are True).\n",
    "\n",
    "2. Write a sequence of actions from start to goal. \n",
    "\n",
    "3. What does this sequence tell you about the search tree depth that would need to be searched by Breadth First Search?\n",
    "\n",
    "\n",
    "\n",
    "<div class=\"alert alert-info\">\n",
    "Write or upload your answer in the cell below this one.\n",
    "</div>"
   ]
  },
  {
   "cell_type": "markdown",
   "metadata": {},
   "source": [
    "1.\n",
    "Initial: pointed-at-mars, ¬pointed-at-earth, ¬pointed-at-sun, ¬battery-full, ¬data-onboard, ¬data-sent n\\\n",
    "Goal: pointed-at-earth, ¬pointed-at-mars, ¬pointed-at-sun, ¬battery-full, ¬data-onboard, data-sent n\\\n",
    "2.\n",
    "start->point at sun->charge->point at mars->observe->point at sun->charge->transmit->goal\n",
    "3.\n",
    "depth would be 7"
   ]
  },
  {
   "cell_type": "markdown",
   "metadata": {},
   "source": [
    "### <a name=\"relaxed\"></a>Relaxed Plan Graph and FF Heuristic\n",
    "\n",
    "Now build a relaxed plan graph for the scenario to calculate the Fast-Forward heursitic value of the initial state.\n",
    "You should organize the relaxed plan graph into columns of 'Facts n' (states/predicates that are True at time n) and 'Actions n' (actions that can be taken as time n given Facts n), as shown below. There is an example worked out in Lecture 05 slides. \n",
    "\n",
    "\n",
    "<img src=\"relaxed_graph.png\"/>\n",
    "\n",
    "\n",
    "1. Create the relaxed plan graph that starts with the initial state and achieves all of the goal predicates.\n",
    "\n",
    "2. What is the associated FF heuristic for the intial state?\n",
    "\n",
    "3. How does the heuristic compare to the length of the true plan you found in the second part? If they are different, why?\n",
    "\n",
    "\n",
    "\n",
    "<div class=\"alert alert-info\">\n",
    "Write or upload your answer in the cell below this one.\n",
    "</div>"
   ]
  },
  {
   "cell_type": "markdown",
   "metadata": {},
   "source": [
    "--> *(double click on this cell to delete this text and type your answer here)*"
   ]
  },
  {
   "cell_type": "code",
   "execution_count": null,
   "metadata": {},
   "outputs": [],
   "source": [
    "![Relaxed Plan Graph](pset3.jpeg)"
   ]
  },
  {
   "cell_type": "code",
   "execution_count": null,
   "metadata": {},
   "outputs": [],
   "source": []
  }
 ],
 "metadata": {
  "kernelspec": {
   "display_name": "Python 3 (ipykernel)",
   "language": "python",
   "name": "python3"
  },
  "language_info": {
   "codemirror_mode": {
    "name": "ipython",
    "version": 3
   },
   "file_extension": ".py",
   "mimetype": "text/x-python",
   "name": "python",
   "nbconvert_exporter": "python",
   "pygments_lexer": "ipython3",
   "version": "3.10.6"
  }
 },
 "nbformat": 4,
 "nbformat_minor": 4
}
