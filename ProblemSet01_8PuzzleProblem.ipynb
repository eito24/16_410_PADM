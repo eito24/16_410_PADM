{
 "cells": [
  {
   "cell_type": "markdown",
   "metadata": {},
   "source": [
    "**This problem set is due Wednesday, September 14, 2021 at 11:59 pm. Please plan ahead and submit your work on time.**"
   ]
  },
  {
   "cell_type": "markdown",
   "metadata": {},
   "source": [
    "Import the modules needed for this exercise (make sure you execute the cell below by clicking on it and pressing Shift-Enter)\n",
    "\n",
    "**Do not import any other modules**"
   ]
  },
  {
   "cell_type": "code",
   "execution_count": null,
   "metadata": {},
   "outputs": [],
   "source": [
    "%load_ext autoreload\n",
    "%autoreload 2\n",
    "from utils import test_ok, check_expanded_states, check_expanded_nodes\n",
    "from search_classes import SearchNode, Path"
   ]
  },
  {
   "cell_type": "markdown",
   "metadata": {},
   "source": [
    "# Problem Set 1: Solving the 8 Puzzle Problem with Search\n",
    "\n",
    "\n",
    "1. [State representation in the 8 Puzzle Problem](#state_representation)\n",
    "    1. [Expanding the puzzle state (25 points)](#state_expansion)\n",
    "2. [Simple Search](#simple_search)\n",
    "    1. [Completing the `PuzzleProblem` class (10 points)](#puzzle_problem_class)\n",
    "    2. [Implementing Breath First Search (45 points)](#bfs_implementation)\n",
    "    3. [Breadth First Search vs Depth First Search (20 points)](#bfs_vs_dfs)\n"
   ]
  },
  {
   "cell_type": "markdown",
   "metadata": {},
   "source": [
    "In this Problem Set you will implement Breath First Search and use it to solve the [8 Puzzle Problem](https://en.wikipedia.org/wiki/15_puzzle).\n",
    "\n",
    "The puzzle consists on a 3x3 grid with 8 numbered tiles and a missing tile. The objective consists on sliding the tiles around until all the numbered tiles are ordered and the missing tile stays at the lower right cell of the grid.\n",
    "\n",
    "<img src=\"puzzle8.png\"/>\n",
    "\n",
    "\n"
   ]
  },
  {
   "cell_type": "markdown",
   "metadata": {},
   "source": [
    "## <a name=\"state_representation\"></a>State representation in the 8 Puzzle Problem\n",
    "\n",
    "To make things simple, we are giving you a possible state representation for the 8-puzzle problem.\n",
    "\n",
    "We'll represent a given state of the puzzle by a tuple of three internal tuples. Each internal tuple represents a row of the puzzle. The missing tile is represented by $0$.\n",
    "\n",
    "For example, the puzzle state below:\n",
    "\n",
    "<img src=\"example_state.png\"/>\n",
    "\n",
    "is represented by `((1, 2, 3), (8, 0, 4), (7, 6, 5))`.\n",
    "\n",
    "Below, we are giving you some code to print a puzzle state:"
   ]
  },
  {
   "cell_type": "code",
   "execution_count": null,
   "metadata": {
    "deletable": false,
    "editable": false,
    "nbgrader": {
     "cell_type": "code",
     "checksum": "074187e36218c7e0ed187f3bfc8964a3",
     "grade": false,
     "grade_id": "print_state_code",
     "locked": true,
     "schema_version": 3,
     "solution": false
    }
   },
   "outputs": [
    {
     "name": "stdout",
     "output_type": "stream",
     "text": [
      "((1, 2, 3), (8, 0, 4), (7, 6, 5)) state represents puzzle state: \n",
      "+-----+\n",
      "|1 2 3|\n",
      "|8   4|\n",
      "|7 6 5|\n",
      "+-----+\n"
     ]
    }
   ],
   "source": [
    "# (this cell will be overwritten)\n",
    "def print_state(state):\n",
    "    print(\"+\"+ \"-\"*5+\"+\")\n",
    "    for l in state:\n",
    "        print(\"|\"+ \" \".join([str(el) if el!=0 else \" \" for el in l]) +\"|\")\n",
    "    print(\"+\"+ \"-\"*5+\"+\")\n",
    "\n",
    "example_state = ((1, 2, 3), (8, 0, 4), (7, 6, 5))\n",
    "\n",
    "print(\"%s state represents puzzle state: \" % (example_state,))\n",
    "print_state(example_state)"
   ]
  },
  {
   "cell_type": "markdown",
   "metadata": {},
   "source": [
    "### <a name=\"state_expansion\"></a>Expanding a puzzle state (25 points)\n",
    "\n",
    "In order to find a solution to the state, we need to define the states we can reach from a given state.\n",
    "\n",
    "This corresponds to the possible moves of the missing tile (at most up, down, left and right).\n",
    "\n",
    "Implement the function `expand_state(state)` that returns a `list` of the states that can be reached from the given `state`.\n",
    "\n",
    "For example, for state `((0, 1, 3), (4, 2, 5), (7, 8, 6))`, the function `expand_state` should return the following list (two moves are feasible):\n",
    "\n",
    "```\n",
    "[((4, 1, 3), (0, 2, 5), (7, 8, 6)), ((1, 0, 3), (4, 2, 5), (7, 8, 6))]\n",
    "```\n",
    "\n",
    "The neighbour states of state:\n",
    "\n",
    "```\n",
    "+-----+\n",
    "|  1 3|\n",
    "|4 2 5|\n",
    "|7 8 6|\n",
    "+-----+\n",
    "```\n",
    "\n",
    "are:\n",
    "\n",
    "```\n",
    "+-----+\n",
    "|4 1 3|\n",
    "|  2 5|\n",
    "|7 8 6|\n",
    "+-----+\n",
    "***\n",
    "+-----+\n",
    "|1   3|\n",
    "|4 2 5|\n",
    "|7 8 6|\n",
    "+-----+\n",
    "```\n",
    "\n",
    "<div class=\"alert alert-info\">\n",
    "Implement the function `expand_state(state)` below.\n",
    "</div>\n"
   ]
  },
  {
   "cell_type": "code",
   "execution_count": null,
   "metadata": {
    "deletable": false,
    "nbgrader": {
     "cell_type": "code",
     "checksum": "f58bea27126cc7932d5552b0edfea079",
     "grade": false,
     "grade_id": "expand_state_code",
     "locked": false,
     "schema_version": 3,
     "solution": true
    }
   },
   "outputs": [],
   "source": [
    "def expand_state(state):\n",
    "    # YOUR CODE HERE\n",
    "    # zloc index (row,col) of zero\n",
    "    possibles = []\n",
    "    try:\n",
    "        zloc = (0,state[0].index(0))\n",
    "    except:\n",
    "        pass\n",
    "    try:\n",
    "        zloc = (1,state[1].index(0))\n",
    "    except:\n",
    "        pass\n",
    "    try:\n",
    "        zloc = (2,state[2].index(0))\n",
    "    except:\n",
    "        pass\n",
    "    if zloc[0]!=0: #if zero not in top row\n",
    "        newstate = [list(state[0]),list(state[1]),list(state[2])]\n",
    "        newstate[zloc[0]][zloc[1]]=state[zloc[0]-1][zloc[1]]\n",
    "        newstate[zloc[0]-1][zloc[1]]=0\n",
    "        possibles.append((tuple(newstate[0]),tuple(newstate[1]),tuple(newstate[2])))\n",
    "    if zloc[0]!=2: #if zero not in bottom row\n",
    "        newstate = [list(state[0]),list(state[1]),list(state[2])]\n",
    "        newstate[zloc[0]][zloc[1]]=state[zloc[0]+1][zloc[1]]\n",
    "        newstate[zloc[0]+1][zloc[1]]=0\n",
    "        possibles.append((tuple(newstate[0]),tuple(newstate[1]),tuple(newstate[2])))\n",
    "    if zloc[1]!=0: #if zero not in leftmost column\n",
    "        newstate = [list(state[0]),list(state[1]),list(state[2])]\n",
    "        newstate[zloc[0]][zloc[1]]=state[zloc[0]][zloc[1]-1]\n",
    "        newstate[zloc[0]][zloc[1]-1]=0\n",
    "        possibles.append((tuple(newstate[0]),tuple(newstate[1]),tuple(newstate[2])))\n",
    "    if zloc[1]!=2: #if zero not in rightmost column\n",
    "        newstate = [list(state[0]),list(state[1]),list(state[2])]\n",
    "        newstate[zloc[0]][zloc[1]]=state[zloc[0]][zloc[1]+1]\n",
    "        newstate[zloc[0]][zloc[1]+1]=0\n",
    "        possibles.append((tuple(newstate[0]),tuple(newstate[1]),tuple(newstate[2])))\n",
    "    return possibles"
   ]
  },
  {
   "cell_type": "code",
   "execution_count": null,
   "metadata": {
    "deletable": false,
    "editable": false,
    "nbgrader": {
     "cell_type": "code",
     "checksum": "c8b8e807145c195c620e9099bf020308",
     "grade": true,
     "grade_id": "expand_state_test",
     "locked": true,
     "points": 25,
     "schema_version": 3,
     "solution": false
    }
   },
   "outputs": [
    {
     "data": {
      "text/html": [
       "<div class=\"alert alert-success\">\n",
       "        <strong>Test passed!!</strong>\n",
       "        </div>"
      ]
     },
     "metadata": {},
     "output_type": "display_data"
    }
   ],
   "source": [
    "\"\"\"Check the expand state function\"\"\"\n",
    "from nose.tools import assert_equal, ok_\n",
    "\n",
    "check_expanded_states(expand_state(((0, 1, 3), (4, 2, 5), (7, 8, 6))),\n",
    "                     [((4, 1, 3), (0, 2, 5), (7, 8, 6)), ((1, 0, 3), (4, 2, 5), (7, 8, 6))])\n",
    "\n",
    "check_expanded_states(expand_state(((1, 2, 3), (8, 0, 4), (7, 6, 5))),\n",
    "                     [((1, 2, 3), (8, 6, 4), (7, 0, 5)),\n",
    "                     ((1, 0, 3), (8, 2, 4), (7, 6, 5)),\n",
    "                     ((1, 2, 3), (8, 4, 0), (7, 6, 5)),\n",
    "                     ((1, 2, 3), (0, 8, 4), (7, 6, 5))])\n",
    "test_ok()"
   ]
  },
  {
   "cell_type": "markdown",
   "metadata": {},
   "source": [
    "## <a name=\"simple_search\"></a>Simple Search"
   ]
  },
  {
   "cell_type": "markdown",
   "metadata": {},
   "source": [
    "Now you will implement Simple Search, as seen in class, to solve the 8 Puzzle Problem.\n",
    "\n",
    "We are giving you the class `SearchNode` defined in `search_classes.py`. This class represents a search node in the search tree.\n",
    "\n",
    "You can create a `SearchNode` by giving it the state it represents and its `SearchNode` parent (or None if it's the root element in the tree). Below is an example of the Serach Node class being used:"
   ]
  },
  {
   "cell_type": "code",
   "execution_count": null,
   "metadata": {},
   "outputs": [
    {
     "name": "stdout",
     "output_type": "stream",
     "text": [
      "Root node: <SearchNode: state: ((0, 1, 3), (4, 2, 5), (7, 8, 6)), parent: None>\n",
      "Children node: <SearchNode: state: ((4, 1, 3), (0, 2, 5), (7, 8, 6)), parent: <SearchNode: state: ((0, 1, 3), (4, 2, 5), (7, 8, 6)), parent: None>>\n"
     ]
    }
   ],
   "source": [
    "# Execute this example code\n",
    "root_node = SearchNode(((0, 1, 3), (4, 2, 5), (7, 8, 6)), parent_node=None)\n",
    "children_node = SearchNode(((4, 1, 3), (0, 2, 5), (7, 8, 6)),\n",
    "                            parent_node=root_node)\n",
    "print(\"Root node: %s\" % root_node)\n",
    "print(\"Children node: %s\" % children_node)"
   ]
  },
  {
   "cell_type": "markdown",
   "metadata": {},
   "source": [
    "We also give you the `Path` class, that takes a `SearchNode` and computes the state path from the initial state in the root of the tree to the state of the given `SearchNode`:"
   ]
  },
  {
   "cell_type": "code",
   "execution_count": null,
   "metadata": {},
   "outputs": [
    {
     "name": "stdout",
     "output_type": "stream",
     "text": [
      "Path of 2 states is: [((0, 1, 3), (4, 2, 5), (7, 8, 6)), ((4, 1, 3), (0, 2, 5), (7, 8, 6))]\n"
     ]
    }
   ],
   "source": [
    "# Execute this example code\n",
    "example_path = Path(children_node)\n",
    "print(\"Path of %d states is: %s\" % (len(example_path.path), example_path.path))"
   ]
  },
  {
   "cell_type": "markdown",
   "metadata": {},
   "source": [
    "<div class=\"alert alert-warning\">\n",
    "You will want to look at the `SearchNode` and `Path` definitions in the included **`search_classes.py`** file, as you will need to know what useful properties you can use for the next questions.\n",
    "</div>\n",
    "\n",
    "<div class=\"alert alert-info\">\n",
    "Implement the function `expand_node(self, search_node)` below.\n",
    "</div>"
   ]
  },
  {
   "cell_type": "code",
   "execution_count": null,
   "metadata": {
    "deletable": false,
    "nbgrader": {
     "cell_type": "code",
     "checksum": "7e18cbec91c7fd808e4745c1167c04c4",
     "grade": false,
     "grade_id": "puzzleproblem_code",
     "locked": false,
     "schema_version": 3,
     "solution": true
    }
   },
   "outputs": [],
   "source": [
    "class PuzzleProblem(object):\n",
    "    \"\"\"Class that represents the puzzle search problem.\"\"\"\n",
    "    def __init__(self, start, goal):\n",
    "        self.start = start\n",
    "        self.goal = goal\n",
    "    def test_goal(self, state):\n",
    "        return self.goal == state\n",
    "    def expand_node(self, search_node):\n",
    "        \"\"\"Return a list of SearchNodes, having the correct state and parent node.\"\"\"\n",
    "        # YOUR CODE HERE\n",
    "        searchable = []\n",
    "        possibles = expand_state(search_node._state)\n",
    "        for state in possibles:\n",
    "            searchable.append(SearchNode(state,parent_node=search_node))\n",
    "        return searchable\n",
    "        \n"
   ]
  },
  {
   "cell_type": "code",
   "execution_count": null,
   "metadata": {
    "deletable": false,
    "editable": false,
    "nbgrader": {
     "cell_type": "code",
     "checksum": "b1f97f378255de804d9b7d9e884751dc",
     "grade": true,
     "grade_id": "puzzleproblem_test",
     "locked": true,
     "points": 10,
     "schema_version": 3,
     "solution": false
    }
   },
   "outputs": [
    {
     "data": {
      "text/html": [
       "<div class=\"alert alert-success\">\n",
       "        <strong>Test passed!!</strong>\n",
       "        </div>"
      ]
     },
     "metadata": {},
     "output_type": "display_data"
    }
   ],
   "source": [
    "\"\"\"Check the implementation of PuzzleProblem\"\"\"\n",
    "state_test = ((1, 2, 3), (8, 0, 4), (7, 6, 5))\n",
    "problem_test = PuzzleProblem(state_test, None)\n",
    "node_test = SearchNode(state_test, None)\n",
    "check_expanded_nodes(problem_test.expand_node(node_test),\n",
    "                     node_test,\n",
    "                     [((1, 2, 3), (8, 6, 4), (7, 0, 5)),\n",
    "                     ((1, 0, 3), (8, 2, 4), (7, 6, 5)),\n",
    "                     ((1, 2, 3), (8, 4, 0), (7, 6, 5)),\n",
    "                     ((1, 2, 3), (0, 8, 4), (7, 6, 5))])\n",
    "test_ok()"
   ]
  },
  {
   "cell_type": "markdown",
   "metadata": {},
   "source": [
    "### <a name=\"bfs_implementation\"></a>Implement Breadth First Search (45 points)\n",
    "\n",
    "Finally, you'll implement *Breath First Search*.\n",
    "\n",
    "Implement the function `breadth_first_search(search_problem)` that takes an instance of the `PuzzleProblem` class that we defined above and returns a tuple of three elements, in the following order:\n",
    "\n",
    "1. If BFS finds a solution, an instance of the `Path` class containing that solution. If it doesn't, it should return `None` as the first element of the tuple.\n",
    "2. The number of visited nodes\n",
    "3. The maximum size of the queue\n",
    "\n",
    "You should use a **visited list**, as otherwise the number of explored states in this problem will be large.\n",
    "\n",
    "Also, think that instead of implementing Breadth First Search directly, you could very easily implement a generic *simple_search* function that takes as one of the parameters a function to insert an element in the queue and use this function to implement breath first search, and also depth first search very easily. However, you are not required to do this.\n",
    "\n",
    "<div class=\"alert alert-info\">\n",
    "Implement `breadth_first_search(search_problem)` below.\n",
    "</div>\n",
    "\n"
   ]
  },
  {
   "cell_type": "code",
   "execution_count": null,
   "metadata": {
    "deletable": false,
    "nbgrader": {
     "cell_type": "code",
     "checksum": "e709e75e81fa8d5acdb9e7b1182f69f9",
     "grade": true,
     "grade_id": "bfs_code",
     "locked": false,
     "points": 45,
     "schema_version": 3,
     "solution": true
    }
   },
   "outputs": [],
   "source": [
    "def breadth_first_search(search_problem):\n",
    "    \"\"\"This function should take a PuzzleProblem instance\n",
    "    and return a 3 element tuple as described above.\"\"\"\n",
    "# YOUR CODE HERE\n",
    "    startnode = SearchNode(search_problem.start,None)\n",
    "    Q = [Path(startnode)] #initialize Q with partial path S\n",
    "    visited = {startnode}\n",
    "    maxlen = len(Q)\n",
    "    while len(Q)!=0:\n",
    "        N = Q[0] #pick some partial path N from Q\n",
    "        headN = N.path[-1] #end node of path N\n",
    "        if search_problem.test_goal(headN): #if head(N)=G\n",
    "            return (N,len(visited),maxlen)\n",
    "        else:\n",
    "            Q = Q[1:] #remove N from Q\n",
    "            children = search_problem.expand_node(SearchNode(headN,None))\n",
    "            for child in children:\n",
    "                if child not in visited:\n",
    "                    Q.append(Path(child))\n",
    "                    visited.add(child)\n",
    "            if len(Q)>maxlen:\n",
    "                maxlen = len(Q)\n",
    "    return (None,len(visited),maxlen)"
   ]
  },
  {
   "cell_type": "markdown",
   "metadata": {},
   "source": [
    "### Solve the Puzzle Problem using BFS\n",
    "\n",
    "Finally, let's use your Breath First Search implementation to solve the 8 Puzzle Problem.\n",
    "Execute the cell below. If your BFS implementation is correct, you should see the solution printed below.\n",
    "Don't modify the cell below, as it will be overwritten by our software. If you want to experiment with different states, create new cells below.\n"
   ]
  },
  {
   "cell_type": "code",
   "execution_count": null,
   "metadata": {
    "deletable": false,
    "editable": false,
    "nbgrader": {
     "cell_type": "code",
     "checksum": "7b7295b7fc80c614916caf03ba62d131",
     "grade": false,
     "grade_id": "puzzle8_bfs_sol_code",
     "locked": true,
     "schema_version": 3,
     "solution": false
    },
    "tags": []
   },
   "outputs": [
    {
     "name": "stdout",
     "output_type": "stream",
     "text": [
      "Solution found!\n",
      "2 states in the solution (1 moves)\n",
      "46 states explored.\n",
      "18 maximum queue\n",
      "Solution: \n",
      "+-----+\n",
      "|1 2 3|\n",
      "|4 5  |\n",
      "|7 8 6|\n",
      "+-----+\n",
      "\n",
      "**\n",
      "\n",
      "+-----+\n",
      "|1 2 3|\n",
      "|4 5 6|\n",
      "|7 8  |\n",
      "+-----+\n",
      "\n",
      "**\n",
      "\n"
     ]
    }
   ],
   "source": [
    "# Solve the 8 Puzzle Problem from state:\n",
    "# +-----+\n",
    "# |  1 3|\n",
    "# |4 2 5|\n",
    "# |7 8 6|\n",
    "# +-----+\n",
    "# Don't modify this cell (contents will be overwritten by autograder)\n",
    "# If you want to experiment with other states, try adding cells below.\n",
    "# You can try with state: ((1, 8, 2), (0, 4, 3), (7, 6, 5)) for example.\n",
    "# Remember that not all states have a solution. Try ((8, 1, 2), (0, 4, 3), (7, 6, 5)), for example.\n",
    "# Be ready to wait, though!\n",
    "start_state = ((0, 1, 3), (4, 2, 5), (7, 8, 6))\n",
    "# start_state = ((8, 1, 2), (0, 4, 3), (7, 6, 5))\n",
    "goal_state = ((1,2,3),(4,5,6),(7,8,0))\n",
    "problem = PuzzleProblem(start_state, goal_state)\n",
    "\n",
    "sol, num_visited, max_q = breadth_first_search(problem)\n",
    "if sol:\n",
    "    print(\"Solution found!\\n%d states in the solution (%d moves)\\n%d states explored.\\n%d maximum queue\" \\\n",
    "          %(len(sol.path), len(sol.path)-1, num_visited,max_q))\n",
    "    print(\"Solution: \")\n",
    "    for s in sol.path:\n",
    "        print_state(s)\n",
    "        print(\"\\n**\\n\")\n",
    "else:\n",
    "    print(\"No solution after exploring %d states with max q of %d\" %(num_visited, max_q))"
   ]
  },
  {
   "cell_type": "markdown",
   "metadata": {
    "tags": []
   },
   "source": [
    "### <a name=\"bfs_vs_dfs\"></a> Breadth First Search vs Depth First Search (20 points)\n",
    "\n",
    "Have you tried using DFS to solve this problem?\n",
    "\n",
    "Would DFS be a better choice for this problem? What benefits does BFS have over DFS in this problem? Please explain in the cell below (double click on the cell below, remove the text and type your answer). This is a qualitative question, you are not required to give numerical comparisons."
   ]
  },
  {
   "cell_type": "markdown",
   "metadata": {
    "deletable": false,
    "nbgrader": {
     "cell_type": "markdown",
     "checksum": "35328cb60ffaf0af938b320d052d35cd",
     "grade": true,
     "grade_id": "bfs_vs_dfs_sol",
     "locked": false,
     "points": 20,
     "schema_version": 3,
     "solution": true
    },
    "tags": []
   },
   "source": [
    "Yes, implemented below. For problems that require only a few steps, BFS is much faster at finding a solution. Thus, since the number of steps required to reach a solution is indefinite, BFS is more effective in solving the problem, and finding the solution with the least amount of steps required. A benefit of using DFS is that its space complexity is less than BFS."
   ]
  },
  {
   "cell_type": "code",
   "execution_count": 11,
   "metadata": {},
   "outputs": [],
   "source": [
    "def depth_first_search(search_problem):\n",
    "    \"\"\"This function should take a PuzzleProblem instance\n",
    "    and return a 3 element tuple as described above.\"\"\"\n",
    "# YOUR CODE HERE\n",
    "    startnode = SearchNode(search_problem.start,None)\n",
    "    Q = [Path(startnode)] #initialize Q with partial path S\n",
    "    visited = {startnode}\n",
    "    maxlen = len(Q)\n",
    "    while len(Q)!=0:\n",
    "        N = Q[-1] #pick some partial path N from Q\n",
    "        headN = N.path[-1] #end node of path N\n",
    "        if search_problem.test_goal(headN): #if head(N)=G\n",
    "            return (N,len(visited),maxlen)\n",
    "        else:\n",
    "            Q = Q[:-1] #remove N from Q\n",
    "            children = search_problem.expand_node(SearchNode(headN,None))\n",
    "            for child in children:\n",
    "                if child not in visited:\n",
    "                    Q.append(Path(child))\n",
    "                    visited.add(child)\n",
    "            if len(Q)>maxlen:\n",
    "                maxlen = len(Q)\n",
    "    return (None,len(visited),maxlen)"
   ]
  },
  {
   "cell_type": "code",
   "execution_count": 16,
   "metadata": {},
   "outputs": [
    {
     "name": "stdout",
     "output_type": "stream",
     "text": [
      "No solution after exploring 181440 states with max q of 42913\n"
     ]
    }
   ],
   "source": [
    "# start_state = ((0, 1, 3), (4, 2, 5), (7, 8, 6))\n",
    "# start_state = ((1, 8, 2), (0, 4, 3), (7, 6, 5))\n",
    "start_state = ((8, 1, 2), (0, 4, 3), (7, 6, 5))\n",
    "goal_state = ((1,2,3),(4,5,6),(7,8,0))\n",
    "problem = PuzzleProblem(start_state, goal_state)\n",
    "\n",
    "sol, num_visited, max_q = depth_first_search(problem)\n",
    "if sol:\n",
    "    print(\"Solution found!\\n%d states in the solution (%d moves)\\n%d states explored.\\n%d maximum queue\" \\\n",
    "          %(len(sol.path), len(sol.path)-1, num_visited,max_q))\n",
    "    print(\"Solution: \")\n",
    "    for s in sol.path:\n",
    "        print_state(s)\n",
    "        print(\"\\n**\\n\")\n",
    "else:\n",
    "    print(\"No solution after exploring %d states with max q of %d\" %(num_visited, max_q))"
   ]
  },
  {
   "cell_type": "code",
   "execution_count": 15,
   "metadata": {},
   "outputs": [
    {
     "name": "stdout",
     "output_type": "stream",
     "text": [
      "No solution after exploring 181440 states with max q of 25133\n"
     ]
    }
   ],
   "source": [
    "#start_state = ((0, 1, 3), (4, 2, 5), (7, 8, 6))\n",
    "#start_state = ((1, 8, 2), (0, 4, 3), (7, 6, 5))\n",
    "start_state = ((8, 1, 2), (0, 4, 3), (7, 6, 5))\n",
    "goal_state = ((1,2,3),(4,5,6),(7,8,0))\n",
    "problem = PuzzleProblem(start_state, goal_state)\n",
    "\n",
    "sol, num_visited, max_q = breadth_first_search(problem)\n",
    "if sol:\n",
    "    print(\"Solution found!\\n%d states in the solution (%d moves)\\n%d states explored.\\n%d maximum queue\" \\\n",
    "          %(len(sol.path), len(sol.path)-1, num_visited,max_q))\n",
    "    print(\"Solution: \")\n",
    "    for s in sol.path:\n",
    "        print_state(s)\n",
    "        print(\"\\n**\\n\")\n",
    "else:\n",
    "    print(\"No solution after exploring %d states with max q of %d\" %(num_visited, max_q))"
   ]
  },
  {
   "cell_type": "code",
   "execution_count": null,
   "metadata": {},
   "outputs": [],
   "source": []
  }
 ],
 "metadata": {
  "anaconda-cloud": {},
  "kernelspec": {
   "display_name": "Python 3 (ipykernel)",
   "language": "python",
   "name": "python3"
  },
  "language_info": {
   "codemirror_mode": {
    "name": "ipython",
    "version": 3
   },
   "file_extension": ".py",
   "mimetype": "text/x-python",
   "name": "python",
   "nbconvert_exporter": "python",
   "pygments_lexer": "ipython3",
   "version": "3.10.6"
  }
 },
 "nbformat": 4,
 "nbformat_minor": 4
}
